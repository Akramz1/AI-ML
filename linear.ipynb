{
 "cells": [
  {
   "cell_type": "code",
   "execution_count": 108,
   "id": "1ef30e78",
   "metadata": {},
   "outputs": [],
   "source": [
    "import pandas as pd \n",
    "import numpy as np\n",
    "from sklearn.preprocessing import OneHotEncoder, LabelEncoder\n",
    "from sklearn.linear_model import LinearRegression\n",
    "from sklearn.model_selection import train_test_split\n",
    "from sklearn.metrics import r2_score, mean_squared_error\n",
    "from sklearn.preprocessing import StandardScaler\n",
    "from plotly.subplots import make_subplots\n",
    "import plotly.graph_objects as go"
   ]
  },
  {
   "cell_type": "code",
   "execution_count": 109,
   "id": "52cbf937",
   "metadata": {},
   "outputs": [
    {
     "data": {
      "text/html": [
       "<div>\n",
       "<style scoped>\n",
       "    .dataframe tbody tr th:only-of-type {\n",
       "        vertical-align: middle;\n",
       "    }\n",
       "\n",
       "    .dataframe tbody tr th {\n",
       "        vertical-align: top;\n",
       "    }\n",
       "\n",
       "    .dataframe thead th {\n",
       "        text-align: right;\n",
       "    }\n",
       "</style>\n",
       "<table border=\"1\" class=\"dataframe\">\n",
       "  <thead>\n",
       "    <tr style=\"text-align: right;\">\n",
       "      <th></th>\n",
       "      <th>price</th>\n",
       "      <th>area</th>\n",
       "      <th>bedrooms</th>\n",
       "      <th>bathrooms</th>\n",
       "      <th>stories</th>\n",
       "      <th>mainroad</th>\n",
       "      <th>guestroom</th>\n",
       "      <th>basement</th>\n",
       "      <th>hotwaterheating</th>\n",
       "      <th>airconditioning</th>\n",
       "      <th>parking</th>\n",
       "      <th>prefarea</th>\n",
       "      <th>furnishingstatus</th>\n",
       "    </tr>\n",
       "  </thead>\n",
       "  <tbody>\n",
       "    <tr>\n",
       "      <th>0</th>\n",
       "      <td>13300000</td>\n",
       "      <td>7420</td>\n",
       "      <td>4</td>\n",
       "      <td>2</td>\n",
       "      <td>3</td>\n",
       "      <td>yes</td>\n",
       "      <td>no</td>\n",
       "      <td>no</td>\n",
       "      <td>no</td>\n",
       "      <td>yes</td>\n",
       "      <td>2</td>\n",
       "      <td>yes</td>\n",
       "      <td>furnished</td>\n",
       "    </tr>\n",
       "    <tr>\n",
       "      <th>1</th>\n",
       "      <td>12250000</td>\n",
       "      <td>8960</td>\n",
       "      <td>4</td>\n",
       "      <td>4</td>\n",
       "      <td>4</td>\n",
       "      <td>yes</td>\n",
       "      <td>no</td>\n",
       "      <td>no</td>\n",
       "      <td>no</td>\n",
       "      <td>yes</td>\n",
       "      <td>3</td>\n",
       "      <td>no</td>\n",
       "      <td>furnished</td>\n",
       "    </tr>\n",
       "    <tr>\n",
       "      <th>2</th>\n",
       "      <td>12250000</td>\n",
       "      <td>9960</td>\n",
       "      <td>3</td>\n",
       "      <td>2</td>\n",
       "      <td>2</td>\n",
       "      <td>yes</td>\n",
       "      <td>no</td>\n",
       "      <td>yes</td>\n",
       "      <td>no</td>\n",
       "      <td>no</td>\n",
       "      <td>2</td>\n",
       "      <td>yes</td>\n",
       "      <td>semi-furnished</td>\n",
       "    </tr>\n",
       "    <tr>\n",
       "      <th>3</th>\n",
       "      <td>12215000</td>\n",
       "      <td>7500</td>\n",
       "      <td>4</td>\n",
       "      <td>2</td>\n",
       "      <td>2</td>\n",
       "      <td>yes</td>\n",
       "      <td>no</td>\n",
       "      <td>yes</td>\n",
       "      <td>no</td>\n",
       "      <td>yes</td>\n",
       "      <td>3</td>\n",
       "      <td>yes</td>\n",
       "      <td>furnished</td>\n",
       "    </tr>\n",
       "    <tr>\n",
       "      <th>4</th>\n",
       "      <td>11410000</td>\n",
       "      <td>7420</td>\n",
       "      <td>4</td>\n",
       "      <td>1</td>\n",
       "      <td>2</td>\n",
       "      <td>yes</td>\n",
       "      <td>yes</td>\n",
       "      <td>yes</td>\n",
       "      <td>no</td>\n",
       "      <td>yes</td>\n",
       "      <td>2</td>\n",
       "      <td>no</td>\n",
       "      <td>furnished</td>\n",
       "    </tr>\n",
       "  </tbody>\n",
       "</table>\n",
       "</div>"
      ],
      "text/plain": [
       "      price  area  bedrooms  bathrooms  stories mainroad guestroom basement  \\\n",
       "0  13300000  7420         4          2        3      yes        no       no   \n",
       "1  12250000  8960         4          4        4      yes        no       no   \n",
       "2  12250000  9960         3          2        2      yes        no      yes   \n",
       "3  12215000  7500         4          2        2      yes        no      yes   \n",
       "4  11410000  7420         4          1        2      yes       yes      yes   \n",
       "\n",
       "  hotwaterheating airconditioning  parking prefarea furnishingstatus  \n",
       "0              no             yes        2      yes        furnished  \n",
       "1              no             yes        3       no        furnished  \n",
       "2              no              no        2      yes   semi-furnished  \n",
       "3              no             yes        3      yes        furnished  \n",
       "4              no             yes        2       no        furnished  "
      ]
     },
     "execution_count": 109,
     "metadata": {},
     "output_type": "execute_result"
    }
   ],
   "source": [
    "data = pd.read_csv(\"Housing.csv\")\n",
    "data.head()"
   ]
  },
  {
   "cell_type": "code",
   "execution_count": 110,
   "id": "cb8cf4c9",
   "metadata": {},
   "outputs": [
    {
     "name": "stdout",
     "output_type": "stream",
     "text": [
      "<class 'pandas.core.frame.DataFrame'>\n",
      "RangeIndex: 545 entries, 0 to 544\n",
      "Data columns (total 13 columns):\n",
      " #   Column            Non-Null Count  Dtype \n",
      "---  ------            --------------  ----- \n",
      " 0   price             545 non-null    int64 \n",
      " 1   area              545 non-null    int64 \n",
      " 2   bedrooms          545 non-null    int64 \n",
      " 3   bathrooms         545 non-null    int64 \n",
      " 4   stories           545 non-null    int64 \n",
      " 5   mainroad          545 non-null    object\n",
      " 6   guestroom         545 non-null    object\n",
      " 7   basement          545 non-null    object\n",
      " 8   hotwaterheating   545 non-null    object\n",
      " 9   airconditioning   545 non-null    object\n",
      " 10  parking           545 non-null    int64 \n",
      " 11  prefarea          545 non-null    object\n",
      " 12  furnishingstatus  545 non-null    object\n",
      "dtypes: int64(6), object(7)\n",
      "memory usage: 55.5+ KB\n"
     ]
    }
   ],
   "source": [
    "data.info()"
   ]
  },
  {
   "cell_type": "code",
   "execution_count": 111,
   "id": "e34134e4",
   "metadata": {},
   "outputs": [
    {
     "data": {
      "text/html": [
       "<div>\n",
       "<style scoped>\n",
       "    .dataframe tbody tr th:only-of-type {\n",
       "        vertical-align: middle;\n",
       "    }\n",
       "\n",
       "    .dataframe tbody tr th {\n",
       "        vertical-align: top;\n",
       "    }\n",
       "\n",
       "    .dataframe thead th {\n",
       "        text-align: right;\n",
       "    }\n",
       "</style>\n",
       "<table border=\"1\" class=\"dataframe\">\n",
       "  <thead>\n",
       "    <tr style=\"text-align: right;\">\n",
       "      <th></th>\n",
       "      <th>price</th>\n",
       "      <th>area</th>\n",
       "      <th>bedrooms</th>\n",
       "      <th>bathrooms</th>\n",
       "      <th>stories</th>\n",
       "      <th>mainroad</th>\n",
       "      <th>guestroom</th>\n",
       "      <th>basement</th>\n",
       "      <th>hotwaterheating</th>\n",
       "      <th>airconditioning</th>\n",
       "      <th>parking</th>\n",
       "      <th>prefarea</th>\n",
       "      <th>furnishingstatus</th>\n",
       "      <th>furnishingstatus_furnished</th>\n",
       "      <th>furnishingstatus_semi-furnished</th>\n",
       "      <th>furnishingstatus_unfurnished</th>\n",
       "    </tr>\n",
       "  </thead>\n",
       "  <tbody>\n",
       "    <tr>\n",
       "      <th>0</th>\n",
       "      <td>13300000</td>\n",
       "      <td>7420</td>\n",
       "      <td>4</td>\n",
       "      <td>2</td>\n",
       "      <td>3</td>\n",
       "      <td>yes</td>\n",
       "      <td>no</td>\n",
       "      <td>no</td>\n",
       "      <td>no</td>\n",
       "      <td>yes</td>\n",
       "      <td>2</td>\n",
       "      <td>yes</td>\n",
       "      <td>furnished</td>\n",
       "      <td>1</td>\n",
       "      <td>0</td>\n",
       "      <td>0</td>\n",
       "    </tr>\n",
       "    <tr>\n",
       "      <th>1</th>\n",
       "      <td>12250000</td>\n",
       "      <td>8960</td>\n",
       "      <td>4</td>\n",
       "      <td>4</td>\n",
       "      <td>4</td>\n",
       "      <td>yes</td>\n",
       "      <td>no</td>\n",
       "      <td>no</td>\n",
       "      <td>no</td>\n",
       "      <td>yes</td>\n",
       "      <td>3</td>\n",
       "      <td>no</td>\n",
       "      <td>furnished</td>\n",
       "      <td>1</td>\n",
       "      <td>0</td>\n",
       "      <td>0</td>\n",
       "    </tr>\n",
       "    <tr>\n",
       "      <th>2</th>\n",
       "      <td>12250000</td>\n",
       "      <td>9960</td>\n",
       "      <td>3</td>\n",
       "      <td>2</td>\n",
       "      <td>2</td>\n",
       "      <td>yes</td>\n",
       "      <td>no</td>\n",
       "      <td>yes</td>\n",
       "      <td>no</td>\n",
       "      <td>no</td>\n",
       "      <td>2</td>\n",
       "      <td>yes</td>\n",
       "      <td>semi-furnished</td>\n",
       "      <td>0</td>\n",
       "      <td>1</td>\n",
       "      <td>0</td>\n",
       "    </tr>\n",
       "    <tr>\n",
       "      <th>3</th>\n",
       "      <td>12215000</td>\n",
       "      <td>7500</td>\n",
       "      <td>4</td>\n",
       "      <td>2</td>\n",
       "      <td>2</td>\n",
       "      <td>yes</td>\n",
       "      <td>no</td>\n",
       "      <td>yes</td>\n",
       "      <td>no</td>\n",
       "      <td>yes</td>\n",
       "      <td>3</td>\n",
       "      <td>yes</td>\n",
       "      <td>furnished</td>\n",
       "      <td>1</td>\n",
       "      <td>0</td>\n",
       "      <td>0</td>\n",
       "    </tr>\n",
       "    <tr>\n",
       "      <th>4</th>\n",
       "      <td>11410000</td>\n",
       "      <td>7420</td>\n",
       "      <td>4</td>\n",
       "      <td>1</td>\n",
       "      <td>2</td>\n",
       "      <td>yes</td>\n",
       "      <td>yes</td>\n",
       "      <td>yes</td>\n",
       "      <td>no</td>\n",
       "      <td>yes</td>\n",
       "      <td>2</td>\n",
       "      <td>no</td>\n",
       "      <td>furnished</td>\n",
       "      <td>1</td>\n",
       "      <td>0</td>\n",
       "      <td>0</td>\n",
       "    </tr>\n",
       "  </tbody>\n",
       "</table>\n",
       "</div>"
      ],
      "text/plain": [
       "      price  area  bedrooms  bathrooms  stories mainroad guestroom basement  \\\n",
       "0  13300000  7420         4          2        3      yes        no       no   \n",
       "1  12250000  8960         4          4        4      yes        no       no   \n",
       "2  12250000  9960         3          2        2      yes        no      yes   \n",
       "3  12215000  7500         4          2        2      yes        no      yes   \n",
       "4  11410000  7420         4          1        2      yes       yes      yes   \n",
       "\n",
       "  hotwaterheating airconditioning  parking prefarea furnishingstatus  \\\n",
       "0              no             yes        2      yes        furnished   \n",
       "1              no             yes        3       no        furnished   \n",
       "2              no              no        2      yes   semi-furnished   \n",
       "3              no             yes        3      yes        furnished   \n",
       "4              no             yes        2       no        furnished   \n",
       "\n",
       "   furnishingstatus_furnished  furnishingstatus_semi-furnished  \\\n",
       "0                           1                                0   \n",
       "1                           1                                0   \n",
       "2                           0                                1   \n",
       "3                           1                                0   \n",
       "4                           1                                0   \n",
       "\n",
       "   furnishingstatus_unfurnished  \n",
       "0                             0  \n",
       "1                             0  \n",
       "2                             0  \n",
       "3                             0  \n",
       "4                             0  "
      ]
     },
     "execution_count": 111,
     "metadata": {},
     "output_type": "execute_result"
    }
   ],
   "source": [
    "encoder = OneHotEncoder(sparse_output=False)\n",
    "encoded = encoder.fit_transform(data[['furnishingstatus']])\n",
    "encoded = encoded.astype(int)\n",
    "encoded_df = pd.DataFrame(encoded , columns=encoder.get_feature_names_out(['furnishingstatus']))\n",
    "data = pd.concat([data , encoded_df] , axis=1)\n",
    "\n",
    "data.head()"
   ]
  },
  {
   "cell_type": "code",
   "execution_count": 112,
   "id": "5b99b408",
   "metadata": {},
   "outputs": [],
   "source": [
    "for col in ['mainroad', 'guestroom', 'basement', 'hotwaterheating', 'airconditioning', 'prefarea']:\n",
    "    data[col] = LabelEncoder().fit_transform(data[col])\n"
   ]
  },
  {
   "cell_type": "code",
   "execution_count": 113,
   "id": "deaa177e",
   "metadata": {},
   "outputs": [
    {
     "data": {
      "text/html": [
       "<div>\n",
       "<style scoped>\n",
       "    .dataframe tbody tr th:only-of-type {\n",
       "        vertical-align: middle;\n",
       "    }\n",
       "\n",
       "    .dataframe tbody tr th {\n",
       "        vertical-align: top;\n",
       "    }\n",
       "\n",
       "    .dataframe thead th {\n",
       "        text-align: right;\n",
       "    }\n",
       "</style>\n",
       "<table border=\"1\" class=\"dataframe\">\n",
       "  <thead>\n",
       "    <tr style=\"text-align: right;\">\n",
       "      <th></th>\n",
       "      <th>price</th>\n",
       "      <th>area</th>\n",
       "      <th>bedrooms</th>\n",
       "      <th>bathrooms</th>\n",
       "      <th>stories</th>\n",
       "      <th>mainroad</th>\n",
       "      <th>guestroom</th>\n",
       "      <th>basement</th>\n",
       "      <th>hotwaterheating</th>\n",
       "      <th>airconditioning</th>\n",
       "      <th>parking</th>\n",
       "      <th>prefarea</th>\n",
       "      <th>furnishingstatus</th>\n",
       "      <th>furnishingstatus_furnished</th>\n",
       "      <th>furnishingstatus_semi-furnished</th>\n",
       "      <th>furnishingstatus_unfurnished</th>\n",
       "    </tr>\n",
       "  </thead>\n",
       "  <tbody>\n",
       "    <tr>\n",
       "      <th>0</th>\n",
       "      <td>13300000</td>\n",
       "      <td>7420</td>\n",
       "      <td>4</td>\n",
       "      <td>2</td>\n",
       "      <td>3</td>\n",
       "      <td>1</td>\n",
       "      <td>0</td>\n",
       "      <td>0</td>\n",
       "      <td>0</td>\n",
       "      <td>1</td>\n",
       "      <td>2</td>\n",
       "      <td>1</td>\n",
       "      <td>furnished</td>\n",
       "      <td>1</td>\n",
       "      <td>0</td>\n",
       "      <td>0</td>\n",
       "    </tr>\n",
       "    <tr>\n",
       "      <th>1</th>\n",
       "      <td>12250000</td>\n",
       "      <td>8960</td>\n",
       "      <td>4</td>\n",
       "      <td>4</td>\n",
       "      <td>4</td>\n",
       "      <td>1</td>\n",
       "      <td>0</td>\n",
       "      <td>0</td>\n",
       "      <td>0</td>\n",
       "      <td>1</td>\n",
       "      <td>3</td>\n",
       "      <td>0</td>\n",
       "      <td>furnished</td>\n",
       "      <td>1</td>\n",
       "      <td>0</td>\n",
       "      <td>0</td>\n",
       "    </tr>\n",
       "    <tr>\n",
       "      <th>2</th>\n",
       "      <td>12250000</td>\n",
       "      <td>9960</td>\n",
       "      <td>3</td>\n",
       "      <td>2</td>\n",
       "      <td>2</td>\n",
       "      <td>1</td>\n",
       "      <td>0</td>\n",
       "      <td>1</td>\n",
       "      <td>0</td>\n",
       "      <td>0</td>\n",
       "      <td>2</td>\n",
       "      <td>1</td>\n",
       "      <td>semi-furnished</td>\n",
       "      <td>0</td>\n",
       "      <td>1</td>\n",
       "      <td>0</td>\n",
       "    </tr>\n",
       "    <tr>\n",
       "      <th>3</th>\n",
       "      <td>12215000</td>\n",
       "      <td>7500</td>\n",
       "      <td>4</td>\n",
       "      <td>2</td>\n",
       "      <td>2</td>\n",
       "      <td>1</td>\n",
       "      <td>0</td>\n",
       "      <td>1</td>\n",
       "      <td>0</td>\n",
       "      <td>1</td>\n",
       "      <td>3</td>\n",
       "      <td>1</td>\n",
       "      <td>furnished</td>\n",
       "      <td>1</td>\n",
       "      <td>0</td>\n",
       "      <td>0</td>\n",
       "    </tr>\n",
       "    <tr>\n",
       "      <th>4</th>\n",
       "      <td>11410000</td>\n",
       "      <td>7420</td>\n",
       "      <td>4</td>\n",
       "      <td>1</td>\n",
       "      <td>2</td>\n",
       "      <td>1</td>\n",
       "      <td>1</td>\n",
       "      <td>1</td>\n",
       "      <td>0</td>\n",
       "      <td>1</td>\n",
       "      <td>2</td>\n",
       "      <td>0</td>\n",
       "      <td>furnished</td>\n",
       "      <td>1</td>\n",
       "      <td>0</td>\n",
       "      <td>0</td>\n",
       "    </tr>\n",
       "  </tbody>\n",
       "</table>\n",
       "</div>"
      ],
      "text/plain": [
       "      price  area  bedrooms  bathrooms  stories  mainroad  guestroom  \\\n",
       "0  13300000  7420         4          2        3         1          0   \n",
       "1  12250000  8960         4          4        4         1          0   \n",
       "2  12250000  9960         3          2        2         1          0   \n",
       "3  12215000  7500         4          2        2         1          0   \n",
       "4  11410000  7420         4          1        2         1          1   \n",
       "\n",
       "   basement  hotwaterheating  airconditioning  parking  prefarea  \\\n",
       "0         0                0                1        2         1   \n",
       "1         0                0                1        3         0   \n",
       "2         1                0                0        2         1   \n",
       "3         1                0                1        3         1   \n",
       "4         1                0                1        2         0   \n",
       "\n",
       "  furnishingstatus  furnishingstatus_furnished  \\\n",
       "0        furnished                           1   \n",
       "1        furnished                           1   \n",
       "2   semi-furnished                           0   \n",
       "3        furnished                           1   \n",
       "4        furnished                           1   \n",
       "\n",
       "   furnishingstatus_semi-furnished  furnishingstatus_unfurnished  \n",
       "0                                0                             0  \n",
       "1                                0                             0  \n",
       "2                                1                             0  \n",
       "3                                0                             0  \n",
       "4                                0                             0  "
      ]
     },
     "execution_count": 113,
     "metadata": {},
     "output_type": "execute_result"
    }
   ],
   "source": [
    "data.head()"
   ]
  },
  {
   "cell_type": "code",
   "execution_count": 114,
   "id": "e2926afd",
   "metadata": {},
   "outputs": [
    {
     "data": {
      "text/html": [
       "<div>\n",
       "<style scoped>\n",
       "    .dataframe tbody tr th:only-of-type {\n",
       "        vertical-align: middle;\n",
       "    }\n",
       "\n",
       "    .dataframe tbody tr th {\n",
       "        vertical-align: top;\n",
       "    }\n",
       "\n",
       "    .dataframe thead th {\n",
       "        text-align: right;\n",
       "    }\n",
       "</style>\n",
       "<table border=\"1\" class=\"dataframe\">\n",
       "  <thead>\n",
       "    <tr style=\"text-align: right;\">\n",
       "      <th></th>\n",
       "      <th>price</th>\n",
       "      <th>area</th>\n",
       "      <th>bedrooms</th>\n",
       "      <th>bathrooms</th>\n",
       "      <th>stories</th>\n",
       "      <th>mainroad</th>\n",
       "      <th>guestroom</th>\n",
       "      <th>basement</th>\n",
       "      <th>hotwaterheating</th>\n",
       "      <th>airconditioning</th>\n",
       "      <th>parking</th>\n",
       "      <th>prefarea</th>\n",
       "      <th>furnishingstatus_furnished</th>\n",
       "      <th>furnishingstatus_semi-furnished</th>\n",
       "      <th>furnishingstatus_unfurnished</th>\n",
       "    </tr>\n",
       "  </thead>\n",
       "  <tbody>\n",
       "    <tr>\n",
       "      <th>count</th>\n",
       "      <td>5.450000e+02</td>\n",
       "      <td>545.000000</td>\n",
       "      <td>545.000000</td>\n",
       "      <td>545.000000</td>\n",
       "      <td>545.000000</td>\n",
       "      <td>545.000000</td>\n",
       "      <td>545.000000</td>\n",
       "      <td>545.000000</td>\n",
       "      <td>545.000000</td>\n",
       "      <td>545.000000</td>\n",
       "      <td>545.000000</td>\n",
       "      <td>545.000000</td>\n",
       "      <td>545.000000</td>\n",
       "      <td>545.000000</td>\n",
       "      <td>545.000000</td>\n",
       "    </tr>\n",
       "    <tr>\n",
       "      <th>mean</th>\n",
       "      <td>4.766729e+06</td>\n",
       "      <td>5150.541284</td>\n",
       "      <td>2.965138</td>\n",
       "      <td>1.286239</td>\n",
       "      <td>1.805505</td>\n",
       "      <td>0.858716</td>\n",
       "      <td>0.177982</td>\n",
       "      <td>0.350459</td>\n",
       "      <td>0.045872</td>\n",
       "      <td>0.315596</td>\n",
       "      <td>0.693578</td>\n",
       "      <td>0.234862</td>\n",
       "      <td>0.256881</td>\n",
       "      <td>0.416514</td>\n",
       "      <td>0.326606</td>\n",
       "    </tr>\n",
       "    <tr>\n",
       "      <th>std</th>\n",
       "      <td>1.870440e+06</td>\n",
       "      <td>2170.141023</td>\n",
       "      <td>0.738064</td>\n",
       "      <td>0.502470</td>\n",
       "      <td>0.867492</td>\n",
       "      <td>0.348635</td>\n",
       "      <td>0.382849</td>\n",
       "      <td>0.477552</td>\n",
       "      <td>0.209399</td>\n",
       "      <td>0.465180</td>\n",
       "      <td>0.861586</td>\n",
       "      <td>0.424302</td>\n",
       "      <td>0.437314</td>\n",
       "      <td>0.493434</td>\n",
       "      <td>0.469402</td>\n",
       "    </tr>\n",
       "    <tr>\n",
       "      <th>min</th>\n",
       "      <td>1.750000e+06</td>\n",
       "      <td>1650.000000</td>\n",
       "      <td>1.000000</td>\n",
       "      <td>1.000000</td>\n",
       "      <td>1.000000</td>\n",
       "      <td>0.000000</td>\n",
       "      <td>0.000000</td>\n",
       "      <td>0.000000</td>\n",
       "      <td>0.000000</td>\n",
       "      <td>0.000000</td>\n",
       "      <td>0.000000</td>\n",
       "      <td>0.000000</td>\n",
       "      <td>0.000000</td>\n",
       "      <td>0.000000</td>\n",
       "      <td>0.000000</td>\n",
       "    </tr>\n",
       "    <tr>\n",
       "      <th>25%</th>\n",
       "      <td>3.430000e+06</td>\n",
       "      <td>3600.000000</td>\n",
       "      <td>2.000000</td>\n",
       "      <td>1.000000</td>\n",
       "      <td>1.000000</td>\n",
       "      <td>1.000000</td>\n",
       "      <td>0.000000</td>\n",
       "      <td>0.000000</td>\n",
       "      <td>0.000000</td>\n",
       "      <td>0.000000</td>\n",
       "      <td>0.000000</td>\n",
       "      <td>0.000000</td>\n",
       "      <td>0.000000</td>\n",
       "      <td>0.000000</td>\n",
       "      <td>0.000000</td>\n",
       "    </tr>\n",
       "    <tr>\n",
       "      <th>50%</th>\n",
       "      <td>4.340000e+06</td>\n",
       "      <td>4600.000000</td>\n",
       "      <td>3.000000</td>\n",
       "      <td>1.000000</td>\n",
       "      <td>2.000000</td>\n",
       "      <td>1.000000</td>\n",
       "      <td>0.000000</td>\n",
       "      <td>0.000000</td>\n",
       "      <td>0.000000</td>\n",
       "      <td>0.000000</td>\n",
       "      <td>0.000000</td>\n",
       "      <td>0.000000</td>\n",
       "      <td>0.000000</td>\n",
       "      <td>0.000000</td>\n",
       "      <td>0.000000</td>\n",
       "    </tr>\n",
       "    <tr>\n",
       "      <th>75%</th>\n",
       "      <td>5.740000e+06</td>\n",
       "      <td>6360.000000</td>\n",
       "      <td>3.000000</td>\n",
       "      <td>2.000000</td>\n",
       "      <td>2.000000</td>\n",
       "      <td>1.000000</td>\n",
       "      <td>0.000000</td>\n",
       "      <td>1.000000</td>\n",
       "      <td>0.000000</td>\n",
       "      <td>1.000000</td>\n",
       "      <td>1.000000</td>\n",
       "      <td>0.000000</td>\n",
       "      <td>1.000000</td>\n",
       "      <td>1.000000</td>\n",
       "      <td>1.000000</td>\n",
       "    </tr>\n",
       "    <tr>\n",
       "      <th>max</th>\n",
       "      <td>1.330000e+07</td>\n",
       "      <td>16200.000000</td>\n",
       "      <td>6.000000</td>\n",
       "      <td>4.000000</td>\n",
       "      <td>4.000000</td>\n",
       "      <td>1.000000</td>\n",
       "      <td>1.000000</td>\n",
       "      <td>1.000000</td>\n",
       "      <td>1.000000</td>\n",
       "      <td>1.000000</td>\n",
       "      <td>3.000000</td>\n",
       "      <td>1.000000</td>\n",
       "      <td>1.000000</td>\n",
       "      <td>1.000000</td>\n",
       "      <td>1.000000</td>\n",
       "    </tr>\n",
       "  </tbody>\n",
       "</table>\n",
       "</div>"
      ],
      "text/plain": [
       "              price          area    bedrooms   bathrooms     stories  \\\n",
       "count  5.450000e+02    545.000000  545.000000  545.000000  545.000000   \n",
       "mean   4.766729e+06   5150.541284    2.965138    1.286239    1.805505   \n",
       "std    1.870440e+06   2170.141023    0.738064    0.502470    0.867492   \n",
       "min    1.750000e+06   1650.000000    1.000000    1.000000    1.000000   \n",
       "25%    3.430000e+06   3600.000000    2.000000    1.000000    1.000000   \n",
       "50%    4.340000e+06   4600.000000    3.000000    1.000000    2.000000   \n",
       "75%    5.740000e+06   6360.000000    3.000000    2.000000    2.000000   \n",
       "max    1.330000e+07  16200.000000    6.000000    4.000000    4.000000   \n",
       "\n",
       "         mainroad   guestroom    basement  hotwaterheating  airconditioning  \\\n",
       "count  545.000000  545.000000  545.000000       545.000000       545.000000   \n",
       "mean     0.858716    0.177982    0.350459         0.045872         0.315596   \n",
       "std      0.348635    0.382849    0.477552         0.209399         0.465180   \n",
       "min      0.000000    0.000000    0.000000         0.000000         0.000000   \n",
       "25%      1.000000    0.000000    0.000000         0.000000         0.000000   \n",
       "50%      1.000000    0.000000    0.000000         0.000000         0.000000   \n",
       "75%      1.000000    0.000000    1.000000         0.000000         1.000000   \n",
       "max      1.000000    1.000000    1.000000         1.000000         1.000000   \n",
       "\n",
       "          parking    prefarea  furnishingstatus_furnished  \\\n",
       "count  545.000000  545.000000                  545.000000   \n",
       "mean     0.693578    0.234862                    0.256881   \n",
       "std      0.861586    0.424302                    0.437314   \n",
       "min      0.000000    0.000000                    0.000000   \n",
       "25%      0.000000    0.000000                    0.000000   \n",
       "50%      0.000000    0.000000                    0.000000   \n",
       "75%      1.000000    0.000000                    1.000000   \n",
       "max      3.000000    1.000000                    1.000000   \n",
       "\n",
       "       furnishingstatus_semi-furnished  furnishingstatus_unfurnished  \n",
       "count                       545.000000                    545.000000  \n",
       "mean                          0.416514                      0.326606  \n",
       "std                           0.493434                      0.469402  \n",
       "min                           0.000000                      0.000000  \n",
       "25%                           0.000000                      0.000000  \n",
       "50%                           0.000000                      0.000000  \n",
       "75%                           1.000000                      1.000000  \n",
       "max                           1.000000                      1.000000  "
      ]
     },
     "execution_count": 114,
     "metadata": {},
     "output_type": "execute_result"
    }
   ],
   "source": [
    "data.describe()"
   ]
  },
  {
   "cell_type": "code",
   "execution_count": 115,
   "id": "32096ba0",
   "metadata": {},
   "outputs": [
    {
     "data": {
      "application/vnd.plotly.v1+json": {
       "config": {
        "plotlyServerURL": "https://plot.ly"
       },
       "data": [
        {
         "name": "Price",
         "type": "box",
         "xaxis": "x",
         "y": {
          "bdata": "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",
          "dtype": "i4"
         },
         "yaxis": "y"
        },
        {
         "name": "Area",
         "type": "box",
         "xaxis": "x2",
         "y": {
          "bdata": "/BwAI+gmTB38HEwdhCFIP6QfdhaQM3AXlhmsDXgecBfIGTQh+BEUGeAQ8xtyH9ARYCKMGXAXqyIOH3wVMx1YGxATSBe4GlgbOh0oI3AXcBeWGdgYUBlwF3AXcBdwF8gZzBAQHRAdtRhwFx4UcBdwF7AsKCMAHnAXcBewImAY2BinK7AikDMUHnAXOi+gD3AXnBPIGcgPpBAUGWQZRBZwF3AXoA8EKXAXsA46IA4aeA/yHIQhiBNeGsASIBxwFwQQKCMAGcgZcBfIGXwVfBXOGHwVlBFKFRQZqAzXGcgZtCDMEJQlkBpAH/QadA4UGWwbjBk/HG4YmBx9GfA8+BtkGXwVxCzAEsQWUBTAElgbcBcYFSASiBPYGKgWBBoEKcASXBKIEwQpfBXYGMgZEBQwERgV5AxCDtQX9BoBCywfTgxCGNQXyBmpGjYaMhl4HvgRpBCMGXwVHSjQILQU2A5IJkghohetG2wMlBEgHFINLB+4C7gLkizUF1gW1A2wHcwpyBnAEtYfOhEGHvAKPBdoEKgR/w8YEBgVohKcGKgWuAuaC0AaJhJkMlwNgxP+EEAQmBfOGs8SWBukH1wNziOxGAAoKBkyFHAXLg7DJRgV4BChDkAQKA8wFjYLkhOeEaAPAA+wDjgO9gnIFPAUwA3QIAQQfhO2DXoNhCbADZ4R/RagDzogyA/YGFoMtg2mDoAPJBNACxATOBNWEzwPlBFxB+sPrA0yGcAPMBF4KEgN2BjYGJQRfwgIEVoe+hnjCnwVsBPaFjIKiQu7CjoRoA8VCfgROA6oFlgb7w/ADWEIlBE6IHoN6BLwD84PGBJhF6wXEA5gDsgP4BUMF4AT9BC4C+AQLg6EDRgVlBGEDQQQUBmUEXgP0g9cHHwVuAvaDOgOkB9hCMQObAy0FGwM8BvwDwoP3weACBYNTgzUElwNEA7GFigL0CA6INgJEhuYDRAOyA+EF9IPAA4wDEoVLg4uDggWEA64EPINbAy4C8ANSBciECIL4wjADZQRoA9ODJQRlBE4DgoPkBBCDvgRVwjcC5YPAB2YDRAOOA4MFzAMthy4DRwl+BaQMiQT9AvIFGEIoA9xDAoPYQgyCp4HyA+xEnoNOA6sDWATGBCOEogOpg4cDHEMjAphCMgPpxLECWwMrBeYDdAOyA9hCPgWlBFaDzgOEhF8CuAQMAx6DZIPrA3/D3IGeg1eGigj/QuUEXcVXgm4CwoPrA2kH2ATcAgSDJQR2A4SDKgMEwv4EdQTpg4uDnIfABG4C9oWYBMQDkwOmA2MCk4M1xngCy4OcBcYFVAU5Az+EFAKWgp4D5AaoA+gD14P0AcuDvAKfgmYDaAPcQygD14LEA4wERAOQAtsDLgLMBG4C4oMqAy4C6wN6BIUHjMOqwnjCsAMOA5sDCwHgg+CD54HtBS4C2AJuAsgDVwNpAZBDq4LuAtgCSQOXgsKDw==",
          "dtype": "i2"
         },
         "yaxis": "y2"
        }
       ],
       "layout": {
        "template": {
         "data": {
          "bar": [
           {
            "error_x": {
             "color": "#2a3f5f"
            },
            "error_y": {
             "color": "#2a3f5f"
            },
            "marker": {
             "line": {
              "color": "#E5ECF6",
              "width": 0.5
             },
             "pattern": {
              "fillmode": "overlay",
              "size": 10,
              "solidity": 0.2
             }
            },
            "type": "bar"
           }
          ],
          "barpolar": [
           {
            "marker": {
             "line": {
              "color": "#E5ECF6",
              "width": 0.5
             },
             "pattern": {
              "fillmode": "overlay",
              "size": 10,
              "solidity": 0.2
             }
            },
            "type": "barpolar"
           }
          ],
          "carpet": [
           {
            "aaxis": {
             "endlinecolor": "#2a3f5f",
             "gridcolor": "white",
             "linecolor": "white",
             "minorgridcolor": "white",
             "startlinecolor": "#2a3f5f"
            },
            "baxis": {
             "endlinecolor": "#2a3f5f",
             "gridcolor": "white",
             "linecolor": "white",
             "minorgridcolor": "white",
             "startlinecolor": "#2a3f5f"
            },
            "type": "carpet"
           }
          ],
          "choropleth": [
           {
            "colorbar": {
             "outlinewidth": 0,
             "ticks": ""
            },
            "type": "choropleth"
           }
          ],
          "contour": [
           {
            "colorbar": {
             "outlinewidth": 0,
             "ticks": ""
            },
            "colorscale": [
             [
              0,
              "#0d0887"
             ],
             [
              0.1111111111111111,
              "#46039f"
             ],
             [
              0.2222222222222222,
              "#7201a8"
             ],
             [
              0.3333333333333333,
              "#9c179e"
             ],
             [
              0.4444444444444444,
              "#bd3786"
             ],
             [
              0.5555555555555556,
              "#d8576b"
             ],
             [
              0.6666666666666666,
              "#ed7953"
             ],
             [
              0.7777777777777778,
              "#fb9f3a"
             ],
             [
              0.8888888888888888,
              "#fdca26"
             ],
             [
              1,
              "#f0f921"
             ]
            ],
            "type": "contour"
           }
          ],
          "contourcarpet": [
           {
            "colorbar": {
             "outlinewidth": 0,
             "ticks": ""
            },
            "type": "contourcarpet"
           }
          ],
          "heatmap": [
           {
            "colorbar": {
             "outlinewidth": 0,
             "ticks": ""
            },
            "colorscale": [
             [
              0,
              "#0d0887"
             ],
             [
              0.1111111111111111,
              "#46039f"
             ],
             [
              0.2222222222222222,
              "#7201a8"
             ],
             [
              0.3333333333333333,
              "#9c179e"
             ],
             [
              0.4444444444444444,
              "#bd3786"
             ],
             [
              0.5555555555555556,
              "#d8576b"
             ],
             [
              0.6666666666666666,
              "#ed7953"
             ],
             [
              0.7777777777777778,
              "#fb9f3a"
             ],
             [
              0.8888888888888888,
              "#fdca26"
             ],
             [
              1,
              "#f0f921"
             ]
            ],
            "type": "heatmap"
           }
          ],
          "histogram": [
           {
            "marker": {
             "pattern": {
              "fillmode": "overlay",
              "size": 10,
              "solidity": 0.2
             }
            },
            "type": "histogram"
           }
          ],
          "histogram2d": [
           {
            "colorbar": {
             "outlinewidth": 0,
             "ticks": ""
            },
            "colorscale": [
             [
              0,
              "#0d0887"
             ],
             [
              0.1111111111111111,
              "#46039f"
             ],
             [
              0.2222222222222222,
              "#7201a8"
             ],
             [
              0.3333333333333333,
              "#9c179e"
             ],
             [
              0.4444444444444444,
              "#bd3786"
             ],
             [
              0.5555555555555556,
              "#d8576b"
             ],
             [
              0.6666666666666666,
              "#ed7953"
             ],
             [
              0.7777777777777778,
              "#fb9f3a"
             ],
             [
              0.8888888888888888,
              "#fdca26"
             ],
             [
              1,
              "#f0f921"
             ]
            ],
            "type": "histogram2d"
           }
          ],
          "histogram2dcontour": [
           {
            "colorbar": {
             "outlinewidth": 0,
             "ticks": ""
            },
            "colorscale": [
             [
              0,
              "#0d0887"
             ],
             [
              0.1111111111111111,
              "#46039f"
             ],
             [
              0.2222222222222222,
              "#7201a8"
             ],
             [
              0.3333333333333333,
              "#9c179e"
             ],
             [
              0.4444444444444444,
              "#bd3786"
             ],
             [
              0.5555555555555556,
              "#d8576b"
             ],
             [
              0.6666666666666666,
              "#ed7953"
             ],
             [
              0.7777777777777778,
              "#fb9f3a"
             ],
             [
              0.8888888888888888,
              "#fdca26"
             ],
             [
              1,
              "#f0f921"
             ]
            ],
            "type": "histogram2dcontour"
           }
          ],
          "mesh3d": [
           {
            "colorbar": {
             "outlinewidth": 0,
             "ticks": ""
            },
            "type": "mesh3d"
           }
          ],
          "parcoords": [
           {
            "line": {
             "colorbar": {
              "outlinewidth": 0,
              "ticks": ""
             }
            },
            "type": "parcoords"
           }
          ],
          "pie": [
           {
            "automargin": true,
            "type": "pie"
           }
          ],
          "scatter": [
           {
            "fillpattern": {
             "fillmode": "overlay",
             "size": 10,
             "solidity": 0.2
            },
            "type": "scatter"
           }
          ],
          "scatter3d": [
           {
            "line": {
             "colorbar": {
              "outlinewidth": 0,
              "ticks": ""
             }
            },
            "marker": {
             "colorbar": {
              "outlinewidth": 0,
              "ticks": ""
             }
            },
            "type": "scatter3d"
           }
          ],
          "scattercarpet": [
           {
            "marker": {
             "colorbar": {
              "outlinewidth": 0,
              "ticks": ""
             }
            },
            "type": "scattercarpet"
           }
          ],
          "scattergeo": [
           {
            "marker": {
             "colorbar": {
              "outlinewidth": 0,
              "ticks": ""
             }
            },
            "type": "scattergeo"
           }
          ],
          "scattergl": [
           {
            "marker": {
             "colorbar": {
              "outlinewidth": 0,
              "ticks": ""
             }
            },
            "type": "scattergl"
           }
          ],
          "scattermap": [
           {
            "marker": {
             "colorbar": {
              "outlinewidth": 0,
              "ticks": ""
             }
            },
            "type": "scattermap"
           }
          ],
          "scattermapbox": [
           {
            "marker": {
             "colorbar": {
              "outlinewidth": 0,
              "ticks": ""
             }
            },
            "type": "scattermapbox"
           }
          ],
          "scatterpolar": [
           {
            "marker": {
             "colorbar": {
              "outlinewidth": 0,
              "ticks": ""
             }
            },
            "type": "scatterpolar"
           }
          ],
          "scatterpolargl": [
           {
            "marker": {
             "colorbar": {
              "outlinewidth": 0,
              "ticks": ""
             }
            },
            "type": "scatterpolargl"
           }
          ],
          "scatterternary": [
           {
            "marker": {
             "colorbar": {
              "outlinewidth": 0,
              "ticks": ""
             }
            },
            "type": "scatterternary"
           }
          ],
          "surface": [
           {
            "colorbar": {
             "outlinewidth": 0,
             "ticks": ""
            },
            "colorscale": [
             [
              0,
              "#0d0887"
             ],
             [
              0.1111111111111111,
              "#46039f"
             ],
             [
              0.2222222222222222,
              "#7201a8"
             ],
             [
              0.3333333333333333,
              "#9c179e"
             ],
             [
              0.4444444444444444,
              "#bd3786"
             ],
             [
              0.5555555555555556,
              "#d8576b"
             ],
             [
              0.6666666666666666,
              "#ed7953"
             ],
             [
              0.7777777777777778,
              "#fb9f3a"
             ],
             [
              0.8888888888888888,
              "#fdca26"
             ],
             [
              1,
              "#f0f921"
             ]
            ],
            "type": "surface"
           }
          ],
          "table": [
           {
            "cells": {
             "fill": {
              "color": "#EBF0F8"
             },
             "line": {
              "color": "white"
             }
            },
            "header": {
             "fill": {
              "color": "#C8D4E3"
             },
             "line": {
              "color": "white"
             }
            },
            "type": "table"
           }
          ]
         },
         "layout": {
          "annotationdefaults": {
           "arrowcolor": "#2a3f5f",
           "arrowhead": 0,
           "arrowwidth": 1
          },
          "autotypenumbers": "strict",
          "coloraxis": {
           "colorbar": {
            "outlinewidth": 0,
            "ticks": ""
           }
          },
          "colorscale": {
           "diverging": [
            [
             0,
             "#8e0152"
            ],
            [
             0.1,
             "#c51b7d"
            ],
            [
             0.2,
             "#de77ae"
            ],
            [
             0.3,
             "#f1b6da"
            ],
            [
             0.4,
             "#fde0ef"
            ],
            [
             0.5,
             "#f7f7f7"
            ],
            [
             0.6,
             "#e6f5d0"
            ],
            [
             0.7,
             "#b8e186"
            ],
            [
             0.8,
             "#7fbc41"
            ],
            [
             0.9,
             "#4d9221"
            ],
            [
             1,
             "#276419"
            ]
           ],
           "sequential": [
            [
             0,
             "#0d0887"
            ],
            [
             0.1111111111111111,
             "#46039f"
            ],
            [
             0.2222222222222222,
             "#7201a8"
            ],
            [
             0.3333333333333333,
             "#9c179e"
            ],
            [
             0.4444444444444444,
             "#bd3786"
            ],
            [
             0.5555555555555556,
             "#d8576b"
            ],
            [
             0.6666666666666666,
             "#ed7953"
            ],
            [
             0.7777777777777778,
             "#fb9f3a"
            ],
            [
             0.8888888888888888,
             "#fdca26"
            ],
            [
             1,
             "#f0f921"
            ]
           ],
           "sequentialminus": [
            [
             0,
             "#0d0887"
            ],
            [
             0.1111111111111111,
             "#46039f"
            ],
            [
             0.2222222222222222,
             "#7201a8"
            ],
            [
             0.3333333333333333,
             "#9c179e"
            ],
            [
             0.4444444444444444,
             "#bd3786"
            ],
            [
             0.5555555555555556,
             "#d8576b"
            ],
            [
             0.6666666666666666,
             "#ed7953"
            ],
            [
             0.7777777777777778,
             "#fb9f3a"
            ],
            [
             0.8888888888888888,
             "#fdca26"
            ],
            [
             1,
             "#f0f921"
            ]
           ]
          },
          "colorway": [
           "#636efa",
           "#EF553B",
           "#00cc96",
           "#ab63fa",
           "#FFA15A",
           "#19d3f3",
           "#FF6692",
           "#B6E880",
           "#FF97FF",
           "#FECB52"
          ],
          "font": {
           "color": "#2a3f5f"
          },
          "geo": {
           "bgcolor": "white",
           "lakecolor": "white",
           "landcolor": "#E5ECF6",
           "showlakes": true,
           "showland": true,
           "subunitcolor": "white"
          },
          "hoverlabel": {
           "align": "left"
          },
          "hovermode": "closest",
          "mapbox": {
           "style": "light"
          },
          "paper_bgcolor": "white",
          "plot_bgcolor": "#E5ECF6",
          "polar": {
           "angularaxis": {
            "gridcolor": "white",
            "linecolor": "white",
            "ticks": ""
           },
           "bgcolor": "#E5ECF6",
           "radialaxis": {
            "gridcolor": "white",
            "linecolor": "white",
            "ticks": ""
           }
          },
          "scene": {
           "xaxis": {
            "backgroundcolor": "#E5ECF6",
            "gridcolor": "white",
            "gridwidth": 2,
            "linecolor": "white",
            "showbackground": true,
            "ticks": "",
            "zerolinecolor": "white"
           },
           "yaxis": {
            "backgroundcolor": "#E5ECF6",
            "gridcolor": "white",
            "gridwidth": 2,
            "linecolor": "white",
            "showbackground": true,
            "ticks": "",
            "zerolinecolor": "white"
           },
           "zaxis": {
            "backgroundcolor": "#E5ECF6",
            "gridcolor": "white",
            "gridwidth": 2,
            "linecolor": "white",
            "showbackground": true,
            "ticks": "",
            "zerolinecolor": "white"
           }
          },
          "shapedefaults": {
           "line": {
            "color": "#2a3f5f"
           }
          },
          "ternary": {
           "aaxis": {
            "gridcolor": "white",
            "linecolor": "white",
            "ticks": ""
           },
           "baxis": {
            "gridcolor": "white",
            "linecolor": "white",
            "ticks": ""
           },
           "bgcolor": "#E5ECF6",
           "caxis": {
            "gridcolor": "white",
            "linecolor": "white",
            "ticks": ""
           }
          },
          "title": {
           "x": 0.05
          },
          "xaxis": {
           "automargin": true,
           "gridcolor": "white",
           "linecolor": "white",
           "ticks": "",
           "title": {
            "standoff": 15
           },
           "zerolinecolor": "white",
           "zerolinewidth": 2
          },
          "yaxis": {
           "automargin": true,
           "gridcolor": "white",
           "linecolor": "white",
           "ticks": "",
           "title": {
            "standoff": 15
           },
           "zerolinecolor": "white",
           "zerolinewidth": 2
          }
         }
        },
        "xaxis": {
         "anchor": "y",
         "domain": [
          0,
          0.45
         ]
        },
        "xaxis2": {
         "anchor": "y2",
         "domain": [
          0.55,
          1
         ]
        },
        "yaxis": {
         "anchor": "x",
         "domain": [
          0,
          1
         ]
        },
        "yaxis2": {
         "anchor": "x2",
         "domain": [
          0,
          1
         ]
        }
       }
      }
     },
     "metadata": {},
     "output_type": "display_data"
    }
   ],
   "source": [
    "fig_box = make_subplots(rows=1, cols=2)\n",
    "\n",
    "fig_box.add_trace(\n",
    "    go.Box(y=data['price'], name='Price'),\n",
    "    row=1, col=1\n",
    ")\n",
    "fig_box.add_trace(\n",
    "    go.Box(y=data['area'], name='Area'),\n",
    "    row=1, col=2\n",
    ")\n",
    "\n",
    "fig_box.show()"
   ]
  },
  {
   "cell_type": "code",
   "execution_count": 116,
   "id": "5334c20d",
   "metadata": {},
   "outputs": [
    {
     "data": {
      "application/vnd.plotly.v1+json": {
       "config": {
        "plotlyServerURL": "https://plot.ly"
       },
       "data": [
        {
         "name": "Price",
         "type": "histogram",
         "x": {
          "bdata": "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",
          "dtype": "i4"
         },
         "xaxis": "x",
         "yaxis": "y"
        },
        {
         "name": "Area",
         "type": "histogram",
         "x": {
          "bdata": "/BwAI+gmTB38HEwdhCFIP6QfdhaQM3AXlhmsDXgecBfIGTQh+BEUGeAQ8xtyH9ARYCKMGXAXqyIOH3wVMx1YGxATSBe4GlgbOh0oI3AXcBeWGdgYUBlwF3AXcBdwF8gZzBAQHRAdtRhwFx4UcBdwF7AsKCMAHnAXcBewImAY2BinK7AikDMUHnAXOi+gD3AXnBPIGcgPpBAUGWQZRBZwF3AXoA8EKXAXsA46IA4aeA/yHIQhiBNeGsASIBxwFwQQKCMAGcgZcBfIGXwVfBXOGHwVlBFKFRQZqAzXGcgZtCDMEJQlkBpAH/QadA4UGWwbjBk/HG4YmBx9GfA8+BtkGXwVxCzAEsQWUBTAElgbcBcYFSASiBPYGKgWBBoEKcASXBKIEwQpfBXYGMgZEBQwERgV5AxCDtQX9BoBCywfTgxCGNQXyBmpGjYaMhl4HvgRpBCMGXwVHSjQILQU2A5IJkghohetG2wMlBEgHFINLB+4C7gLkizUF1gW1A2wHcwpyBnAEtYfOhEGHvAKPBdoEKgR/w8YEBgVohKcGKgWuAuaC0AaJhJkMlwNgxP+EEAQmBfOGs8SWBukH1wNziOxGAAoKBkyFHAXLg7DJRgV4BChDkAQKA8wFjYLkhOeEaAPAA+wDjgO9gnIFPAUwA3QIAQQfhO2DXoNhCbADZ4R/RagDzogyA/YGFoMtg2mDoAPJBNACxATOBNWEzwPlBFxB+sPrA0yGcAPMBF4KEgN2BjYGJQRfwgIEVoe+hnjCnwVsBPaFjIKiQu7CjoRoA8VCfgROA6oFlgb7w/ADWEIlBE6IHoN6BLwD84PGBJhF6wXEA5gDsgP4BUMF4AT9BC4C+AQLg6EDRgVlBGEDQQQUBmUEXgP0g9cHHwVuAvaDOgOkB9hCMQObAy0FGwM8BvwDwoP3weACBYNTgzUElwNEA7GFigL0CA6INgJEhuYDRAOyA+EF9IPAA4wDEoVLg4uDggWEA64EPINbAy4C8ANSBciECIL4wjADZQRoA9ODJQRlBE4DgoPkBBCDvgRVwjcC5YPAB2YDRAOOA4MFzAMthy4DRwl+BaQMiQT9AvIFGEIoA9xDAoPYQgyCp4HyA+xEnoNOA6sDWATGBCOEogOpg4cDHEMjAphCMgPpxLECWwMrBeYDdAOyA9hCPgWlBFaDzgOEhF8CuAQMAx6DZIPrA3/D3IGeg1eGigj/QuUEXcVXgm4CwoPrA2kH2ATcAgSDJQR2A4SDKgMEwv4EdQTpg4uDnIfABG4C9oWYBMQDkwOmA2MCk4M1xngCy4OcBcYFVAU5Az+EFAKWgp4D5AaoA+gD14P0AcuDvAKfgmYDaAPcQygD14LEA4wERAOQAtsDLgLMBG4C4oMqAy4C6wN6BIUHjMOqwnjCsAMOA5sDCwHgg+CD54HtBS4C2AJuAsgDVwNpAZBDq4LuAtgCSQOXgsKDw==",
          "dtype": "i2"
         },
         "xaxis": "x2",
         "yaxis": "y2"
        }
       ],
       "layout": {
        "template": {
         "data": {
          "bar": [
           {
            "error_x": {
             "color": "#2a3f5f"
            },
            "error_y": {
             "color": "#2a3f5f"
            },
            "marker": {
             "line": {
              "color": "#E5ECF6",
              "width": 0.5
             },
             "pattern": {
              "fillmode": "overlay",
              "size": 10,
              "solidity": 0.2
             }
            },
            "type": "bar"
           }
          ],
          "barpolar": [
           {
            "marker": {
             "line": {
              "color": "#E5ECF6",
              "width": 0.5
             },
             "pattern": {
              "fillmode": "overlay",
              "size": 10,
              "solidity": 0.2
             }
            },
            "type": "barpolar"
           }
          ],
          "carpet": [
           {
            "aaxis": {
             "endlinecolor": "#2a3f5f",
             "gridcolor": "white",
             "linecolor": "white",
             "minorgridcolor": "white",
             "startlinecolor": "#2a3f5f"
            },
            "baxis": {
             "endlinecolor": "#2a3f5f",
             "gridcolor": "white",
             "linecolor": "white",
             "minorgridcolor": "white",
             "startlinecolor": "#2a3f5f"
            },
            "type": "carpet"
           }
          ],
          "choropleth": [
           {
            "colorbar": {
             "outlinewidth": 0,
             "ticks": ""
            },
            "type": "choropleth"
           }
          ],
          "contour": [
           {
            "colorbar": {
             "outlinewidth": 0,
             "ticks": ""
            },
            "colorscale": [
             [
              0,
              "#0d0887"
             ],
             [
              0.1111111111111111,
              "#46039f"
             ],
             [
              0.2222222222222222,
              "#7201a8"
             ],
             [
              0.3333333333333333,
              "#9c179e"
             ],
             [
              0.4444444444444444,
              "#bd3786"
             ],
             [
              0.5555555555555556,
              "#d8576b"
             ],
             [
              0.6666666666666666,
              "#ed7953"
             ],
             [
              0.7777777777777778,
              "#fb9f3a"
             ],
             [
              0.8888888888888888,
              "#fdca26"
             ],
             [
              1,
              "#f0f921"
             ]
            ],
            "type": "contour"
           }
          ],
          "contourcarpet": [
           {
            "colorbar": {
             "outlinewidth": 0,
             "ticks": ""
            },
            "type": "contourcarpet"
           }
          ],
          "heatmap": [
           {
            "colorbar": {
             "outlinewidth": 0,
             "ticks": ""
            },
            "colorscale": [
             [
              0,
              "#0d0887"
             ],
             [
              0.1111111111111111,
              "#46039f"
             ],
             [
              0.2222222222222222,
              "#7201a8"
             ],
             [
              0.3333333333333333,
              "#9c179e"
             ],
             [
              0.4444444444444444,
              "#bd3786"
             ],
             [
              0.5555555555555556,
              "#d8576b"
             ],
             [
              0.6666666666666666,
              "#ed7953"
             ],
             [
              0.7777777777777778,
              "#fb9f3a"
             ],
             [
              0.8888888888888888,
              "#fdca26"
             ],
             [
              1,
              "#f0f921"
             ]
            ],
            "type": "heatmap"
           }
          ],
          "histogram": [
           {
            "marker": {
             "pattern": {
              "fillmode": "overlay",
              "size": 10,
              "solidity": 0.2
             }
            },
            "type": "histogram"
           }
          ],
          "histogram2d": [
           {
            "colorbar": {
             "outlinewidth": 0,
             "ticks": ""
            },
            "colorscale": [
             [
              0,
              "#0d0887"
             ],
             [
              0.1111111111111111,
              "#46039f"
             ],
             [
              0.2222222222222222,
              "#7201a8"
             ],
             [
              0.3333333333333333,
              "#9c179e"
             ],
             [
              0.4444444444444444,
              "#bd3786"
             ],
             [
              0.5555555555555556,
              "#d8576b"
             ],
             [
              0.6666666666666666,
              "#ed7953"
             ],
             [
              0.7777777777777778,
              "#fb9f3a"
             ],
             [
              0.8888888888888888,
              "#fdca26"
             ],
             [
              1,
              "#f0f921"
             ]
            ],
            "type": "histogram2d"
           }
          ],
          "histogram2dcontour": [
           {
            "colorbar": {
             "outlinewidth": 0,
             "ticks": ""
            },
            "colorscale": [
             [
              0,
              "#0d0887"
             ],
             [
              0.1111111111111111,
              "#46039f"
             ],
             [
              0.2222222222222222,
              "#7201a8"
             ],
             [
              0.3333333333333333,
              "#9c179e"
             ],
             [
              0.4444444444444444,
              "#bd3786"
             ],
             [
              0.5555555555555556,
              "#d8576b"
             ],
             [
              0.6666666666666666,
              "#ed7953"
             ],
             [
              0.7777777777777778,
              "#fb9f3a"
             ],
             [
              0.8888888888888888,
              "#fdca26"
             ],
             [
              1,
              "#f0f921"
             ]
            ],
            "type": "histogram2dcontour"
           }
          ],
          "mesh3d": [
           {
            "colorbar": {
             "outlinewidth": 0,
             "ticks": ""
            },
            "type": "mesh3d"
           }
          ],
          "parcoords": [
           {
            "line": {
             "colorbar": {
              "outlinewidth": 0,
              "ticks": ""
             }
            },
            "type": "parcoords"
           }
          ],
          "pie": [
           {
            "automargin": true,
            "type": "pie"
           }
          ],
          "scatter": [
           {
            "fillpattern": {
             "fillmode": "overlay",
             "size": 10,
             "solidity": 0.2
            },
            "type": "scatter"
           }
          ],
          "scatter3d": [
           {
            "line": {
             "colorbar": {
              "outlinewidth": 0,
              "ticks": ""
             }
            },
            "marker": {
             "colorbar": {
              "outlinewidth": 0,
              "ticks": ""
             }
            },
            "type": "scatter3d"
           }
          ],
          "scattercarpet": [
           {
            "marker": {
             "colorbar": {
              "outlinewidth": 0,
              "ticks": ""
             }
            },
            "type": "scattercarpet"
           }
          ],
          "scattergeo": [
           {
            "marker": {
             "colorbar": {
              "outlinewidth": 0,
              "ticks": ""
             }
            },
            "type": "scattergeo"
           }
          ],
          "scattergl": [
           {
            "marker": {
             "colorbar": {
              "outlinewidth": 0,
              "ticks": ""
             }
            },
            "type": "scattergl"
           }
          ],
          "scattermap": [
           {
            "marker": {
             "colorbar": {
              "outlinewidth": 0,
              "ticks": ""
             }
            },
            "type": "scattermap"
           }
          ],
          "scattermapbox": [
           {
            "marker": {
             "colorbar": {
              "outlinewidth": 0,
              "ticks": ""
             }
            },
            "type": "scattermapbox"
           }
          ],
          "scatterpolar": [
           {
            "marker": {
             "colorbar": {
              "outlinewidth": 0,
              "ticks": ""
             }
            },
            "type": "scatterpolar"
           }
          ],
          "scatterpolargl": [
           {
            "marker": {
             "colorbar": {
              "outlinewidth": 0,
              "ticks": ""
             }
            },
            "type": "scatterpolargl"
           }
          ],
          "scatterternary": [
           {
            "marker": {
             "colorbar": {
              "outlinewidth": 0,
              "ticks": ""
             }
            },
            "type": "scatterternary"
           }
          ],
          "surface": [
           {
            "colorbar": {
             "outlinewidth": 0,
             "ticks": ""
            },
            "colorscale": [
             [
              0,
              "#0d0887"
             ],
             [
              0.1111111111111111,
              "#46039f"
             ],
             [
              0.2222222222222222,
              "#7201a8"
             ],
             [
              0.3333333333333333,
              "#9c179e"
             ],
             [
              0.4444444444444444,
              "#bd3786"
             ],
             [
              0.5555555555555556,
              "#d8576b"
             ],
             [
              0.6666666666666666,
              "#ed7953"
             ],
             [
              0.7777777777777778,
              "#fb9f3a"
             ],
             [
              0.8888888888888888,
              "#fdca26"
             ],
             [
              1,
              "#f0f921"
             ]
            ],
            "type": "surface"
           }
          ],
          "table": [
           {
            "cells": {
             "fill": {
              "color": "#EBF0F8"
             },
             "line": {
              "color": "white"
             }
            },
            "header": {
             "fill": {
              "color": "#C8D4E3"
             },
             "line": {
              "color": "white"
             }
            },
            "type": "table"
           }
          ]
         },
         "layout": {
          "annotationdefaults": {
           "arrowcolor": "#2a3f5f",
           "arrowhead": 0,
           "arrowwidth": 1
          },
          "autotypenumbers": "strict",
          "coloraxis": {
           "colorbar": {
            "outlinewidth": 0,
            "ticks": ""
           }
          },
          "colorscale": {
           "diverging": [
            [
             0,
             "#8e0152"
            ],
            [
             0.1,
             "#c51b7d"
            ],
            [
             0.2,
             "#de77ae"
            ],
            [
             0.3,
             "#f1b6da"
            ],
            [
             0.4,
             "#fde0ef"
            ],
            [
             0.5,
             "#f7f7f7"
            ],
            [
             0.6,
             "#e6f5d0"
            ],
            [
             0.7,
             "#b8e186"
            ],
            [
             0.8,
             "#7fbc41"
            ],
            [
             0.9,
             "#4d9221"
            ],
            [
             1,
             "#276419"
            ]
           ],
           "sequential": [
            [
             0,
             "#0d0887"
            ],
            [
             0.1111111111111111,
             "#46039f"
            ],
            [
             0.2222222222222222,
             "#7201a8"
            ],
            [
             0.3333333333333333,
             "#9c179e"
            ],
            [
             0.4444444444444444,
             "#bd3786"
            ],
            [
             0.5555555555555556,
             "#d8576b"
            ],
            [
             0.6666666666666666,
             "#ed7953"
            ],
            [
             0.7777777777777778,
             "#fb9f3a"
            ],
            [
             0.8888888888888888,
             "#fdca26"
            ],
            [
             1,
             "#f0f921"
            ]
           ],
           "sequentialminus": [
            [
             0,
             "#0d0887"
            ],
            [
             0.1111111111111111,
             "#46039f"
            ],
            [
             0.2222222222222222,
             "#7201a8"
            ],
            [
             0.3333333333333333,
             "#9c179e"
            ],
            [
             0.4444444444444444,
             "#bd3786"
            ],
            [
             0.5555555555555556,
             "#d8576b"
            ],
            [
             0.6666666666666666,
             "#ed7953"
            ],
            [
             0.7777777777777778,
             "#fb9f3a"
            ],
            [
             0.8888888888888888,
             "#fdca26"
            ],
            [
             1,
             "#f0f921"
            ]
           ]
          },
          "colorway": [
           "#636efa",
           "#EF553B",
           "#00cc96",
           "#ab63fa",
           "#FFA15A",
           "#19d3f3",
           "#FF6692",
           "#B6E880",
           "#FF97FF",
           "#FECB52"
          ],
          "font": {
           "color": "#2a3f5f"
          },
          "geo": {
           "bgcolor": "white",
           "lakecolor": "white",
           "landcolor": "#E5ECF6",
           "showlakes": true,
           "showland": true,
           "subunitcolor": "white"
          },
          "hoverlabel": {
           "align": "left"
          },
          "hovermode": "closest",
          "mapbox": {
           "style": "light"
          },
          "paper_bgcolor": "white",
          "plot_bgcolor": "#E5ECF6",
          "polar": {
           "angularaxis": {
            "gridcolor": "white",
            "linecolor": "white",
            "ticks": ""
           },
           "bgcolor": "#E5ECF6",
           "radialaxis": {
            "gridcolor": "white",
            "linecolor": "white",
            "ticks": ""
           }
          },
          "scene": {
           "xaxis": {
            "backgroundcolor": "#E5ECF6",
            "gridcolor": "white",
            "gridwidth": 2,
            "linecolor": "white",
            "showbackground": true,
            "ticks": "",
            "zerolinecolor": "white"
           },
           "yaxis": {
            "backgroundcolor": "#E5ECF6",
            "gridcolor": "white",
            "gridwidth": 2,
            "linecolor": "white",
            "showbackground": true,
            "ticks": "",
            "zerolinecolor": "white"
           },
           "zaxis": {
            "backgroundcolor": "#E5ECF6",
            "gridcolor": "white",
            "gridwidth": 2,
            "linecolor": "white",
            "showbackground": true,
            "ticks": "",
            "zerolinecolor": "white"
           }
          },
          "shapedefaults": {
           "line": {
            "color": "#2a3f5f"
           }
          },
          "ternary": {
           "aaxis": {
            "gridcolor": "white",
            "linecolor": "white",
            "ticks": ""
           },
           "baxis": {
            "gridcolor": "white",
            "linecolor": "white",
            "ticks": ""
           },
           "bgcolor": "#E5ECF6",
           "caxis": {
            "gridcolor": "white",
            "linecolor": "white",
            "ticks": ""
           }
          },
          "title": {
           "x": 0.05
          },
          "xaxis": {
           "automargin": true,
           "gridcolor": "white",
           "linecolor": "white",
           "ticks": "",
           "title": {
            "standoff": 15
           },
           "zerolinecolor": "white",
           "zerolinewidth": 2
          },
          "yaxis": {
           "automargin": true,
           "gridcolor": "white",
           "linecolor": "white",
           "ticks": "",
           "title": {
            "standoff": 15
           },
           "zerolinecolor": "white",
           "zerolinewidth": 2
          }
         }
        },
        "xaxis": {
         "anchor": "y",
         "domain": [
          0,
          0.45
         ]
        },
        "xaxis2": {
         "anchor": "y2",
         "domain": [
          0.55,
          1
         ]
        },
        "yaxis": {
         "anchor": "x",
         "domain": [
          0,
          1
         ]
        },
        "yaxis2": {
         "anchor": "x2",
         "domain": [
          0,
          1
         ]
        }
       }
      }
     },
     "metadata": {},
     "output_type": "display_data"
    }
   ],
   "source": [
    "fig_his = make_subplots(rows=1, cols=2)\n",
    "\n",
    "fig_his.add_trace(\n",
    "    go.Histogram(x=data['price'], name='Price'),\n",
    "    row=1, col=1\n",
    ")\n",
    "fig_his.add_trace(\n",
    "    go.Histogram(x=data['area'], name='Area'),\n",
    "    row=1, col=2\n",
    ")\n",
    "\n",
    "fig_his.show()\n"
   ]
  },
  {
   "cell_type": "code",
   "execution_count": 117,
   "id": "06f37536",
   "metadata": {},
   "outputs": [],
   "source": [
    "Q1 = data['price'].quantile(0.25)\n",
    "Q3 = data['price'].quantile(0.75)\n",
    "IQR = Q3 - Q1\n",
    "upper_bound = Q3 + 1.5 * IQR\n",
    "lower_bound = Q1 - 1.5 * IQR\n",
    "\n",
    "data['price'] = np.where(data['price'] > upper_bound, upper_bound,np.where(data['price'] < lower_bound, lower_bound, data['price']))\n",
    "\n",
    "Q1 = data['area'].quantile(0.25)\n",
    "Q3 = data['area'].quantile(0.75)\n",
    "\n",
    "IQR = Q3 - Q1\n",
    "upper_bound = Q3 + 1.5 * IQR\n",
    "lower_bound = Q1 - 1.5 * IQR\n",
    "\n",
    "data['area'] = np.where(data['area'] > upper_bound, upper_bound, np.where(data['area'] < lower_bound, lower_bound, data['area']))\n",
    "data.drop(columns='furnishingstatus' , inplace=True)\n"
   ]
  },
  {
   "cell_type": "code",
   "execution_count": 118,
   "id": "e4598d8c",
   "metadata": {},
   "outputs": [],
   "source": [
    "scaler = StandardScaler()\n",
    "data[['price', 'area']] = scaler.fit_transform(data[['price', 'area']])\n"
   ]
  },
  {
   "cell_type": "code",
   "execution_count": 119,
   "id": "66856249",
   "metadata": {},
   "outputs": [
    {
     "data": {
      "application/vnd.plotly.v1+json": {
       "config": {
        "plotlyServerURL": "https://plot.ly"
       },
       "data": [
        {
         "name": "Price",
         "type": "histogram",
         "x": {
          "bdata": "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",
          "dtype": "f8"
         },
         "xaxis": "x",
         "yaxis": "y"
        },
        {
         "name": "Area",
         "type": "histogram",
         "x": {
          "bdata": "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",
          "dtype": "f8"
         },
         "xaxis": "x2",
         "yaxis": "y2"
        }
       ],
       "layout": {
        "template": {
         "data": {
          "bar": [
           {
            "error_x": {
             "color": "#2a3f5f"
            },
            "error_y": {
             "color": "#2a3f5f"
            },
            "marker": {
             "line": {
              "color": "#E5ECF6",
              "width": 0.5
             },
             "pattern": {
              "fillmode": "overlay",
              "size": 10,
              "solidity": 0.2
             }
            },
            "type": "bar"
           }
          ],
          "barpolar": [
           {
            "marker": {
             "line": {
              "color": "#E5ECF6",
              "width": 0.5
             },
             "pattern": {
              "fillmode": "overlay",
              "size": 10,
              "solidity": 0.2
             }
            },
            "type": "barpolar"
           }
          ],
          "carpet": [
           {
            "aaxis": {
             "endlinecolor": "#2a3f5f",
             "gridcolor": "white",
             "linecolor": "white",
             "minorgridcolor": "white",
             "startlinecolor": "#2a3f5f"
            },
            "baxis": {
             "endlinecolor": "#2a3f5f",
             "gridcolor": "white",
             "linecolor": "white",
             "minorgridcolor": "white",
             "startlinecolor": "#2a3f5f"
            },
            "type": "carpet"
           }
          ],
          "choropleth": [
           {
            "colorbar": {
             "outlinewidth": 0,
             "ticks": ""
            },
            "type": "choropleth"
           }
          ],
          "contour": [
           {
            "colorbar": {
             "outlinewidth": 0,
             "ticks": ""
            },
            "colorscale": [
             [
              0,
              "#0d0887"
             ],
             [
              0.1111111111111111,
              "#46039f"
             ],
             [
              0.2222222222222222,
              "#7201a8"
             ],
             [
              0.3333333333333333,
              "#9c179e"
             ],
             [
              0.4444444444444444,
              "#bd3786"
             ],
             [
              0.5555555555555556,
              "#d8576b"
             ],
             [
              0.6666666666666666,
              "#ed7953"
             ],
             [
              0.7777777777777778,
              "#fb9f3a"
             ],
             [
              0.8888888888888888,
              "#fdca26"
             ],
             [
              1,
              "#f0f921"
             ]
            ],
            "type": "contour"
           }
          ],
          "contourcarpet": [
           {
            "colorbar": {
             "outlinewidth": 0,
             "ticks": ""
            },
            "type": "contourcarpet"
           }
          ],
          "heatmap": [
           {
            "colorbar": {
             "outlinewidth": 0,
             "ticks": ""
            },
            "colorscale": [
             [
              0,
              "#0d0887"
             ],
             [
              0.1111111111111111,
              "#46039f"
             ],
             [
              0.2222222222222222,
              "#7201a8"
             ],
             [
              0.3333333333333333,
              "#9c179e"
             ],
             [
              0.4444444444444444,
              "#bd3786"
             ],
             [
              0.5555555555555556,
              "#d8576b"
             ],
             [
              0.6666666666666666,
              "#ed7953"
             ],
             [
              0.7777777777777778,
              "#fb9f3a"
             ],
             [
              0.8888888888888888,
              "#fdca26"
             ],
             [
              1,
              "#f0f921"
             ]
            ],
            "type": "heatmap"
           }
          ],
          "histogram": [
           {
            "marker": {
             "pattern": {
              "fillmode": "overlay",
              "size": 10,
              "solidity": 0.2
             }
            },
            "type": "histogram"
           }
          ],
          "histogram2d": [
           {
            "colorbar": {
             "outlinewidth": 0,
             "ticks": ""
            },
            "colorscale": [
             [
              0,
              "#0d0887"
             ],
             [
              0.1111111111111111,
              "#46039f"
             ],
             [
              0.2222222222222222,
              "#7201a8"
             ],
             [
              0.3333333333333333,
              "#9c179e"
             ],
             [
              0.4444444444444444,
              "#bd3786"
             ],
             [
              0.5555555555555556,
              "#d8576b"
             ],
             [
              0.6666666666666666,
              "#ed7953"
             ],
             [
              0.7777777777777778,
              "#fb9f3a"
             ],
             [
              0.8888888888888888,
              "#fdca26"
             ],
             [
              1,
              "#f0f921"
             ]
            ],
            "type": "histogram2d"
           }
          ],
          "histogram2dcontour": [
           {
            "colorbar": {
             "outlinewidth": 0,
             "ticks": ""
            },
            "colorscale": [
             [
              0,
              "#0d0887"
             ],
             [
              0.1111111111111111,
              "#46039f"
             ],
             [
              0.2222222222222222,
              "#7201a8"
             ],
             [
              0.3333333333333333,
              "#9c179e"
             ],
             [
              0.4444444444444444,
              "#bd3786"
             ],
             [
              0.5555555555555556,
              "#d8576b"
             ],
             [
              0.6666666666666666,
              "#ed7953"
             ],
             [
              0.7777777777777778,
              "#fb9f3a"
             ],
             [
              0.8888888888888888,
              "#fdca26"
             ],
             [
              1,
              "#f0f921"
             ]
            ],
            "type": "histogram2dcontour"
           }
          ],
          "mesh3d": [
           {
            "colorbar": {
             "outlinewidth": 0,
             "ticks": ""
            },
            "type": "mesh3d"
           }
          ],
          "parcoords": [
           {
            "line": {
             "colorbar": {
              "outlinewidth": 0,
              "ticks": ""
             }
            },
            "type": "parcoords"
           }
          ],
          "pie": [
           {
            "automargin": true,
            "type": "pie"
           }
          ],
          "scatter": [
           {
            "fillpattern": {
             "fillmode": "overlay",
             "size": 10,
             "solidity": 0.2
            },
            "type": "scatter"
           }
          ],
          "scatter3d": [
           {
            "line": {
             "colorbar": {
              "outlinewidth": 0,
              "ticks": ""
             }
            },
            "marker": {
             "colorbar": {
              "outlinewidth": 0,
              "ticks": ""
             }
            },
            "type": "scatter3d"
           }
          ],
          "scattercarpet": [
           {
            "marker": {
             "colorbar": {
              "outlinewidth": 0,
              "ticks": ""
             }
            },
            "type": "scattercarpet"
           }
          ],
          "scattergeo": [
           {
            "marker": {
             "colorbar": {
              "outlinewidth": 0,
              "ticks": ""
             }
            },
            "type": "scattergeo"
           }
          ],
          "scattergl": [
           {
            "marker": {
             "colorbar": {
              "outlinewidth": 0,
              "ticks": ""
             }
            },
            "type": "scattergl"
           }
          ],
          "scattermap": [
           {
            "marker": {
             "colorbar": {
              "outlinewidth": 0,
              "ticks": ""
             }
            },
            "type": "scattermap"
           }
          ],
          "scattermapbox": [
           {
            "marker": {
             "colorbar": {
              "outlinewidth": 0,
              "ticks": ""
             }
            },
            "type": "scattermapbox"
           }
          ],
          "scatterpolar": [
           {
            "marker": {
             "colorbar": {
              "outlinewidth": 0,
              "ticks": ""
             }
            },
            "type": "scatterpolar"
           }
          ],
          "scatterpolargl": [
           {
            "marker": {
             "colorbar": {
              "outlinewidth": 0,
              "ticks": ""
             }
            },
            "type": "scatterpolargl"
           }
          ],
          "scatterternary": [
           {
            "marker": {
             "colorbar": {
              "outlinewidth": 0,
              "ticks": ""
             }
            },
            "type": "scatterternary"
           }
          ],
          "surface": [
           {
            "colorbar": {
             "outlinewidth": 0,
             "ticks": ""
            },
            "colorscale": [
             [
              0,
              "#0d0887"
             ],
             [
              0.1111111111111111,
              "#46039f"
             ],
             [
              0.2222222222222222,
              "#7201a8"
             ],
             [
              0.3333333333333333,
              "#9c179e"
             ],
             [
              0.4444444444444444,
              "#bd3786"
             ],
             [
              0.5555555555555556,
              "#d8576b"
             ],
             [
              0.6666666666666666,
              "#ed7953"
             ],
             [
              0.7777777777777778,
              "#fb9f3a"
             ],
             [
              0.8888888888888888,
              "#fdca26"
             ],
             [
              1,
              "#f0f921"
             ]
            ],
            "type": "surface"
           }
          ],
          "table": [
           {
            "cells": {
             "fill": {
              "color": "#EBF0F8"
             },
             "line": {
              "color": "white"
             }
            },
            "header": {
             "fill": {
              "color": "#C8D4E3"
             },
             "line": {
              "color": "white"
             }
            },
            "type": "table"
           }
          ]
         },
         "layout": {
          "annotationdefaults": {
           "arrowcolor": "#2a3f5f",
           "arrowhead": 0,
           "arrowwidth": 1
          },
          "autotypenumbers": "strict",
          "coloraxis": {
           "colorbar": {
            "outlinewidth": 0,
            "ticks": ""
           }
          },
          "colorscale": {
           "diverging": [
            [
             0,
             "#8e0152"
            ],
            [
             0.1,
             "#c51b7d"
            ],
            [
             0.2,
             "#de77ae"
            ],
            [
             0.3,
             "#f1b6da"
            ],
            [
             0.4,
             "#fde0ef"
            ],
            [
             0.5,
             "#f7f7f7"
            ],
            [
             0.6,
             "#e6f5d0"
            ],
            [
             0.7,
             "#b8e186"
            ],
            [
             0.8,
             "#7fbc41"
            ],
            [
             0.9,
             "#4d9221"
            ],
            [
             1,
             "#276419"
            ]
           ],
           "sequential": [
            [
             0,
             "#0d0887"
            ],
            [
             0.1111111111111111,
             "#46039f"
            ],
            [
             0.2222222222222222,
             "#7201a8"
            ],
            [
             0.3333333333333333,
             "#9c179e"
            ],
            [
             0.4444444444444444,
             "#bd3786"
            ],
            [
             0.5555555555555556,
             "#d8576b"
            ],
            [
             0.6666666666666666,
             "#ed7953"
            ],
            [
             0.7777777777777778,
             "#fb9f3a"
            ],
            [
             0.8888888888888888,
             "#fdca26"
            ],
            [
             1,
             "#f0f921"
            ]
           ],
           "sequentialminus": [
            [
             0,
             "#0d0887"
            ],
            [
             0.1111111111111111,
             "#46039f"
            ],
            [
             0.2222222222222222,
             "#7201a8"
            ],
            [
             0.3333333333333333,
             "#9c179e"
            ],
            [
             0.4444444444444444,
             "#bd3786"
            ],
            [
             0.5555555555555556,
             "#d8576b"
            ],
            [
             0.6666666666666666,
             "#ed7953"
            ],
            [
             0.7777777777777778,
             "#fb9f3a"
            ],
            [
             0.8888888888888888,
             "#fdca26"
            ],
            [
             1,
             "#f0f921"
            ]
           ]
          },
          "colorway": [
           "#636efa",
           "#EF553B",
           "#00cc96",
           "#ab63fa",
           "#FFA15A",
           "#19d3f3",
           "#FF6692",
           "#B6E880",
           "#FF97FF",
           "#FECB52"
          ],
          "font": {
           "color": "#2a3f5f"
          },
          "geo": {
           "bgcolor": "white",
           "lakecolor": "white",
           "landcolor": "#E5ECF6",
           "showlakes": true,
           "showland": true,
           "subunitcolor": "white"
          },
          "hoverlabel": {
           "align": "left"
          },
          "hovermode": "closest",
          "mapbox": {
           "style": "light"
          },
          "paper_bgcolor": "white",
          "plot_bgcolor": "#E5ECF6",
          "polar": {
           "angularaxis": {
            "gridcolor": "white",
            "linecolor": "white",
            "ticks": ""
           },
           "bgcolor": "#E5ECF6",
           "radialaxis": {
            "gridcolor": "white",
            "linecolor": "white",
            "ticks": ""
           }
          },
          "scene": {
           "xaxis": {
            "backgroundcolor": "#E5ECF6",
            "gridcolor": "white",
            "gridwidth": 2,
            "linecolor": "white",
            "showbackground": true,
            "ticks": "",
            "zerolinecolor": "white"
           },
           "yaxis": {
            "backgroundcolor": "#E5ECF6",
            "gridcolor": "white",
            "gridwidth": 2,
            "linecolor": "white",
            "showbackground": true,
            "ticks": "",
            "zerolinecolor": "white"
           },
           "zaxis": {
            "backgroundcolor": "#E5ECF6",
            "gridcolor": "white",
            "gridwidth": 2,
            "linecolor": "white",
            "showbackground": true,
            "ticks": "",
            "zerolinecolor": "white"
           }
          },
          "shapedefaults": {
           "line": {
            "color": "#2a3f5f"
           }
          },
          "ternary": {
           "aaxis": {
            "gridcolor": "white",
            "linecolor": "white",
            "ticks": ""
           },
           "baxis": {
            "gridcolor": "white",
            "linecolor": "white",
            "ticks": ""
           },
           "bgcolor": "#E5ECF6",
           "caxis": {
            "gridcolor": "white",
            "linecolor": "white",
            "ticks": ""
           }
          },
          "title": {
           "x": 0.05
          },
          "xaxis": {
           "automargin": true,
           "gridcolor": "white",
           "linecolor": "white",
           "ticks": "",
           "title": {
            "standoff": 15
           },
           "zerolinecolor": "white",
           "zerolinewidth": 2
          },
          "yaxis": {
           "automargin": true,
           "gridcolor": "white",
           "linecolor": "white",
           "ticks": "",
           "title": {
            "standoff": 15
           },
           "zerolinecolor": "white",
           "zerolinewidth": 2
          }
         }
        },
        "xaxis": {
         "anchor": "y",
         "domain": [
          0,
          0.45
         ]
        },
        "xaxis2": {
         "anchor": "y2",
         "domain": [
          0.55,
          1
         ]
        },
        "yaxis": {
         "anchor": "x",
         "domain": [
          0,
          1
         ]
        },
        "yaxis2": {
         "anchor": "x2",
         "domain": [
          0,
          1
         ]
        }
       }
      }
     },
     "metadata": {},
     "output_type": "display_data"
    }
   ],
   "source": [
    "figs_his = make_subplots(rows=1, cols=2)\n",
    "\n",
    "figs_his.add_trace(\n",
    "    go.Histogram(x=data['price'], name='Price'),\n",
    "    row=1, col=1\n",
    ")\n",
    "figs_his.add_trace(\n",
    "    go.Histogram(x=data['area'], name='Area'),\n",
    "    row=1, col=2\n",
    ")\n",
    "\n",
    "figs_his.show()"
   ]
  },
  {
   "cell_type": "code",
   "execution_count": 120,
   "id": "b88cca11",
   "metadata": {},
   "outputs": [],
   "source": [
    "X = data.drop(columns='price')\n",
    "Y = data.price"
   ]
  },
  {
   "cell_type": "code",
   "execution_count": 121,
   "id": "65c0176e",
   "metadata": {},
   "outputs": [
    {
     "data": {
      "text/html": [
       "<style>#sk-container-id-7 {\n",
       "  /* Definition of color scheme common for light and dark mode */\n",
       "  --sklearn-color-text: #000;\n",
       "  --sklearn-color-text-muted: #666;\n",
       "  --sklearn-color-line: gray;\n",
       "  /* Definition of color scheme for unfitted estimators */\n",
       "  --sklearn-color-unfitted-level-0: #fff5e6;\n",
       "  --sklearn-color-unfitted-level-1: #f6e4d2;\n",
       "  --sklearn-color-unfitted-level-2: #ffe0b3;\n",
       "  --sklearn-color-unfitted-level-3: chocolate;\n",
       "  /* Definition of color scheme for fitted estimators */\n",
       "  --sklearn-color-fitted-level-0: #f0f8ff;\n",
       "  --sklearn-color-fitted-level-1: #d4ebff;\n",
       "  --sklearn-color-fitted-level-2: #b3dbfd;\n",
       "  --sklearn-color-fitted-level-3: cornflowerblue;\n",
       "\n",
       "  /* Specific color for light theme */\n",
       "  --sklearn-color-text-on-default-background: var(--sg-text-color, var(--theme-code-foreground, var(--jp-content-font-color1, black)));\n",
       "  --sklearn-color-background: var(--sg-background-color, var(--theme-background, var(--jp-layout-color0, white)));\n",
       "  --sklearn-color-border-box: var(--sg-text-color, var(--theme-code-foreground, var(--jp-content-font-color1, black)));\n",
       "  --sklearn-color-icon: #696969;\n",
       "\n",
       "  @media (prefers-color-scheme: dark) {\n",
       "    /* Redefinition of color scheme for dark theme */\n",
       "    --sklearn-color-text-on-default-background: var(--sg-text-color, var(--theme-code-foreground, var(--jp-content-font-color1, white)));\n",
       "    --sklearn-color-background: var(--sg-background-color, var(--theme-background, var(--jp-layout-color0, #111)));\n",
       "    --sklearn-color-border-box: var(--sg-text-color, var(--theme-code-foreground, var(--jp-content-font-color1, white)));\n",
       "    --sklearn-color-icon: #878787;\n",
       "  }\n",
       "}\n",
       "\n",
       "#sk-container-id-7 {\n",
       "  color: var(--sklearn-color-text);\n",
       "}\n",
       "\n",
       "#sk-container-id-7 pre {\n",
       "  padding: 0;\n",
       "}\n",
       "\n",
       "#sk-container-id-7 input.sk-hidden--visually {\n",
       "  border: 0;\n",
       "  clip: rect(1px 1px 1px 1px);\n",
       "  clip: rect(1px, 1px, 1px, 1px);\n",
       "  height: 1px;\n",
       "  margin: -1px;\n",
       "  overflow: hidden;\n",
       "  padding: 0;\n",
       "  position: absolute;\n",
       "  width: 1px;\n",
       "}\n",
       "\n",
       "#sk-container-id-7 div.sk-dashed-wrapped {\n",
       "  border: 1px dashed var(--sklearn-color-line);\n",
       "  margin: 0 0.4em 0.5em 0.4em;\n",
       "  box-sizing: border-box;\n",
       "  padding-bottom: 0.4em;\n",
       "  background-color: var(--sklearn-color-background);\n",
       "}\n",
       "\n",
       "#sk-container-id-7 div.sk-container {\n",
       "  /* jupyter's `normalize.less` sets `[hidden] { display: none; }`\n",
       "     but bootstrap.min.css set `[hidden] { display: none !important; }`\n",
       "     so we also need the `!important` here to be able to override the\n",
       "     default hidden behavior on the sphinx rendered scikit-learn.org.\n",
       "     See: https://github.com/scikit-learn/scikit-learn/issues/21755 */\n",
       "  display: inline-block !important;\n",
       "  position: relative;\n",
       "}\n",
       "\n",
       "#sk-container-id-7 div.sk-text-repr-fallback {\n",
       "  display: none;\n",
       "}\n",
       "\n",
       "div.sk-parallel-item,\n",
       "div.sk-serial,\n",
       "div.sk-item {\n",
       "  /* draw centered vertical line to link estimators */\n",
       "  background-image: linear-gradient(var(--sklearn-color-text-on-default-background), var(--sklearn-color-text-on-default-background));\n",
       "  background-size: 2px 100%;\n",
       "  background-repeat: no-repeat;\n",
       "  background-position: center center;\n",
       "}\n",
       "\n",
       "/* Parallel-specific style estimator block */\n",
       "\n",
       "#sk-container-id-7 div.sk-parallel-item::after {\n",
       "  content: \"\";\n",
       "  width: 100%;\n",
       "  border-bottom: 2px solid var(--sklearn-color-text-on-default-background);\n",
       "  flex-grow: 1;\n",
       "}\n",
       "\n",
       "#sk-container-id-7 div.sk-parallel {\n",
       "  display: flex;\n",
       "  align-items: stretch;\n",
       "  justify-content: center;\n",
       "  background-color: var(--sklearn-color-background);\n",
       "  position: relative;\n",
       "}\n",
       "\n",
       "#sk-container-id-7 div.sk-parallel-item {\n",
       "  display: flex;\n",
       "  flex-direction: column;\n",
       "}\n",
       "\n",
       "#sk-container-id-7 div.sk-parallel-item:first-child::after {\n",
       "  align-self: flex-end;\n",
       "  width: 50%;\n",
       "}\n",
       "\n",
       "#sk-container-id-7 div.sk-parallel-item:last-child::after {\n",
       "  align-self: flex-start;\n",
       "  width: 50%;\n",
       "}\n",
       "\n",
       "#sk-container-id-7 div.sk-parallel-item:only-child::after {\n",
       "  width: 0;\n",
       "}\n",
       "\n",
       "/* Serial-specific style estimator block */\n",
       "\n",
       "#sk-container-id-7 div.sk-serial {\n",
       "  display: flex;\n",
       "  flex-direction: column;\n",
       "  align-items: center;\n",
       "  background-color: var(--sklearn-color-background);\n",
       "  padding-right: 1em;\n",
       "  padding-left: 1em;\n",
       "}\n",
       "\n",
       "\n",
       "/* Toggleable style: style used for estimator/Pipeline/ColumnTransformer box that is\n",
       "clickable and can be expanded/collapsed.\n",
       "- Pipeline and ColumnTransformer use this feature and define the default style\n",
       "- Estimators will overwrite some part of the style using the `sk-estimator` class\n",
       "*/\n",
       "\n",
       "/* Pipeline and ColumnTransformer style (default) */\n",
       "\n",
       "#sk-container-id-7 div.sk-toggleable {\n",
       "  /* Default theme specific background. It is overwritten whether we have a\n",
       "  specific estimator or a Pipeline/ColumnTransformer */\n",
       "  background-color: var(--sklearn-color-background);\n",
       "}\n",
       "\n",
       "/* Toggleable label */\n",
       "#sk-container-id-7 label.sk-toggleable__label {\n",
       "  cursor: pointer;\n",
       "  display: flex;\n",
       "  width: 100%;\n",
       "  margin-bottom: 0;\n",
       "  padding: 0.5em;\n",
       "  box-sizing: border-box;\n",
       "  text-align: center;\n",
       "  align-items: start;\n",
       "  justify-content: space-between;\n",
       "  gap: 0.5em;\n",
       "}\n",
       "\n",
       "#sk-container-id-7 label.sk-toggleable__label .caption {\n",
       "  font-size: 0.6rem;\n",
       "  font-weight: lighter;\n",
       "  color: var(--sklearn-color-text-muted);\n",
       "}\n",
       "\n",
       "#sk-container-id-7 label.sk-toggleable__label-arrow:before {\n",
       "  /* Arrow on the left of the label */\n",
       "  content: \"▸\";\n",
       "  float: left;\n",
       "  margin-right: 0.25em;\n",
       "  color: var(--sklearn-color-icon);\n",
       "}\n",
       "\n",
       "#sk-container-id-7 label.sk-toggleable__label-arrow:hover:before {\n",
       "  color: var(--sklearn-color-text);\n",
       "}\n",
       "\n",
       "/* Toggleable content - dropdown */\n",
       "\n",
       "#sk-container-id-7 div.sk-toggleable__content {\n",
       "  max-height: 0;\n",
       "  max-width: 0;\n",
       "  overflow: hidden;\n",
       "  text-align: left;\n",
       "  /* unfitted */\n",
       "  background-color: var(--sklearn-color-unfitted-level-0);\n",
       "}\n",
       "\n",
       "#sk-container-id-7 div.sk-toggleable__content.fitted {\n",
       "  /* fitted */\n",
       "  background-color: var(--sklearn-color-fitted-level-0);\n",
       "}\n",
       "\n",
       "#sk-container-id-7 div.sk-toggleable__content pre {\n",
       "  margin: 0.2em;\n",
       "  border-radius: 0.25em;\n",
       "  color: var(--sklearn-color-text);\n",
       "  /* unfitted */\n",
       "  background-color: var(--sklearn-color-unfitted-level-0);\n",
       "}\n",
       "\n",
       "#sk-container-id-7 div.sk-toggleable__content.fitted pre {\n",
       "  /* unfitted */\n",
       "  background-color: var(--sklearn-color-fitted-level-0);\n",
       "}\n",
       "\n",
       "#sk-container-id-7 input.sk-toggleable__control:checked~div.sk-toggleable__content {\n",
       "  /* Expand drop-down */\n",
       "  max-height: 200px;\n",
       "  max-width: 100%;\n",
       "  overflow: auto;\n",
       "}\n",
       "\n",
       "#sk-container-id-7 input.sk-toggleable__control:checked~label.sk-toggleable__label-arrow:before {\n",
       "  content: \"▾\";\n",
       "}\n",
       "\n",
       "/* Pipeline/ColumnTransformer-specific style */\n",
       "\n",
       "#sk-container-id-7 div.sk-label input.sk-toggleable__control:checked~label.sk-toggleable__label {\n",
       "  color: var(--sklearn-color-text);\n",
       "  background-color: var(--sklearn-color-unfitted-level-2);\n",
       "}\n",
       "\n",
       "#sk-container-id-7 div.sk-label.fitted input.sk-toggleable__control:checked~label.sk-toggleable__label {\n",
       "  background-color: var(--sklearn-color-fitted-level-2);\n",
       "}\n",
       "\n",
       "/* Estimator-specific style */\n",
       "\n",
       "/* Colorize estimator box */\n",
       "#sk-container-id-7 div.sk-estimator input.sk-toggleable__control:checked~label.sk-toggleable__label {\n",
       "  /* unfitted */\n",
       "  background-color: var(--sklearn-color-unfitted-level-2);\n",
       "}\n",
       "\n",
       "#sk-container-id-7 div.sk-estimator.fitted input.sk-toggleable__control:checked~label.sk-toggleable__label {\n",
       "  /* fitted */\n",
       "  background-color: var(--sklearn-color-fitted-level-2);\n",
       "}\n",
       "\n",
       "#sk-container-id-7 div.sk-label label.sk-toggleable__label,\n",
       "#sk-container-id-7 div.sk-label label {\n",
       "  /* The background is the default theme color */\n",
       "  color: var(--sklearn-color-text-on-default-background);\n",
       "}\n",
       "\n",
       "/* On hover, darken the color of the background */\n",
       "#sk-container-id-7 div.sk-label:hover label.sk-toggleable__label {\n",
       "  color: var(--sklearn-color-text);\n",
       "  background-color: var(--sklearn-color-unfitted-level-2);\n",
       "}\n",
       "\n",
       "/* Label box, darken color on hover, fitted */\n",
       "#sk-container-id-7 div.sk-label.fitted:hover label.sk-toggleable__label.fitted {\n",
       "  color: var(--sklearn-color-text);\n",
       "  background-color: var(--sklearn-color-fitted-level-2);\n",
       "}\n",
       "\n",
       "/* Estimator label */\n",
       "\n",
       "#sk-container-id-7 div.sk-label label {\n",
       "  font-family: monospace;\n",
       "  font-weight: bold;\n",
       "  display: inline-block;\n",
       "  line-height: 1.2em;\n",
       "}\n",
       "\n",
       "#sk-container-id-7 div.sk-label-container {\n",
       "  text-align: center;\n",
       "}\n",
       "\n",
       "/* Estimator-specific */\n",
       "#sk-container-id-7 div.sk-estimator {\n",
       "  font-family: monospace;\n",
       "  border: 1px dotted var(--sklearn-color-border-box);\n",
       "  border-radius: 0.25em;\n",
       "  box-sizing: border-box;\n",
       "  margin-bottom: 0.5em;\n",
       "  /* unfitted */\n",
       "  background-color: var(--sklearn-color-unfitted-level-0);\n",
       "}\n",
       "\n",
       "#sk-container-id-7 div.sk-estimator.fitted {\n",
       "  /* fitted */\n",
       "  background-color: var(--sklearn-color-fitted-level-0);\n",
       "}\n",
       "\n",
       "/* on hover */\n",
       "#sk-container-id-7 div.sk-estimator:hover {\n",
       "  /* unfitted */\n",
       "  background-color: var(--sklearn-color-unfitted-level-2);\n",
       "}\n",
       "\n",
       "#sk-container-id-7 div.sk-estimator.fitted:hover {\n",
       "  /* fitted */\n",
       "  background-color: var(--sklearn-color-fitted-level-2);\n",
       "}\n",
       "\n",
       "/* Specification for estimator info (e.g. \"i\" and \"?\") */\n",
       "\n",
       "/* Common style for \"i\" and \"?\" */\n",
       "\n",
       ".sk-estimator-doc-link,\n",
       "a:link.sk-estimator-doc-link,\n",
       "a:visited.sk-estimator-doc-link {\n",
       "  float: right;\n",
       "  font-size: smaller;\n",
       "  line-height: 1em;\n",
       "  font-family: monospace;\n",
       "  background-color: var(--sklearn-color-background);\n",
       "  border-radius: 1em;\n",
       "  height: 1em;\n",
       "  width: 1em;\n",
       "  text-decoration: none !important;\n",
       "  margin-left: 0.5em;\n",
       "  text-align: center;\n",
       "  /* unfitted */\n",
       "  border: var(--sklearn-color-unfitted-level-1) 1pt solid;\n",
       "  color: var(--sklearn-color-unfitted-level-1);\n",
       "}\n",
       "\n",
       ".sk-estimator-doc-link.fitted,\n",
       "a:link.sk-estimator-doc-link.fitted,\n",
       "a:visited.sk-estimator-doc-link.fitted {\n",
       "  /* fitted */\n",
       "  border: var(--sklearn-color-fitted-level-1) 1pt solid;\n",
       "  color: var(--sklearn-color-fitted-level-1);\n",
       "}\n",
       "\n",
       "/* On hover */\n",
       "div.sk-estimator:hover .sk-estimator-doc-link:hover,\n",
       ".sk-estimator-doc-link:hover,\n",
       "div.sk-label-container:hover .sk-estimator-doc-link:hover,\n",
       ".sk-estimator-doc-link:hover {\n",
       "  /* unfitted */\n",
       "  background-color: var(--sklearn-color-unfitted-level-3);\n",
       "  color: var(--sklearn-color-background);\n",
       "  text-decoration: none;\n",
       "}\n",
       "\n",
       "div.sk-estimator.fitted:hover .sk-estimator-doc-link.fitted:hover,\n",
       ".sk-estimator-doc-link.fitted:hover,\n",
       "div.sk-label-container:hover .sk-estimator-doc-link.fitted:hover,\n",
       ".sk-estimator-doc-link.fitted:hover {\n",
       "  /* fitted */\n",
       "  background-color: var(--sklearn-color-fitted-level-3);\n",
       "  color: var(--sklearn-color-background);\n",
       "  text-decoration: none;\n",
       "}\n",
       "\n",
       "/* Span, style for the box shown on hovering the info icon */\n",
       ".sk-estimator-doc-link span {\n",
       "  display: none;\n",
       "  z-index: 9999;\n",
       "  position: relative;\n",
       "  font-weight: normal;\n",
       "  right: .2ex;\n",
       "  padding: .5ex;\n",
       "  margin: .5ex;\n",
       "  width: min-content;\n",
       "  min-width: 20ex;\n",
       "  max-width: 50ex;\n",
       "  color: var(--sklearn-color-text);\n",
       "  box-shadow: 2pt 2pt 4pt #999;\n",
       "  /* unfitted */\n",
       "  background: var(--sklearn-color-unfitted-level-0);\n",
       "  border: .5pt solid var(--sklearn-color-unfitted-level-3);\n",
       "}\n",
       "\n",
       ".sk-estimator-doc-link.fitted span {\n",
       "  /* fitted */\n",
       "  background: var(--sklearn-color-fitted-level-0);\n",
       "  border: var(--sklearn-color-fitted-level-3);\n",
       "}\n",
       "\n",
       ".sk-estimator-doc-link:hover span {\n",
       "  display: block;\n",
       "}\n",
       "\n",
       "/* \"?\"-specific style due to the `<a>` HTML tag */\n",
       "\n",
       "#sk-container-id-7 a.estimator_doc_link {\n",
       "  float: right;\n",
       "  font-size: 1rem;\n",
       "  line-height: 1em;\n",
       "  font-family: monospace;\n",
       "  background-color: var(--sklearn-color-background);\n",
       "  border-radius: 1rem;\n",
       "  height: 1rem;\n",
       "  width: 1rem;\n",
       "  text-decoration: none;\n",
       "  /* unfitted */\n",
       "  color: var(--sklearn-color-unfitted-level-1);\n",
       "  border: var(--sklearn-color-unfitted-level-1) 1pt solid;\n",
       "}\n",
       "\n",
       "#sk-container-id-7 a.estimator_doc_link.fitted {\n",
       "  /* fitted */\n",
       "  border: var(--sklearn-color-fitted-level-1) 1pt solid;\n",
       "  color: var(--sklearn-color-fitted-level-1);\n",
       "}\n",
       "\n",
       "/* On hover */\n",
       "#sk-container-id-7 a.estimator_doc_link:hover {\n",
       "  /* unfitted */\n",
       "  background-color: var(--sklearn-color-unfitted-level-3);\n",
       "  color: var(--sklearn-color-background);\n",
       "  text-decoration: none;\n",
       "}\n",
       "\n",
       "#sk-container-id-7 a.estimator_doc_link.fitted:hover {\n",
       "  /* fitted */\n",
       "  background-color: var(--sklearn-color-fitted-level-3);\n",
       "}\n",
       "</style><div id=\"sk-container-id-7\" class=\"sk-top-container\"><div class=\"sk-text-repr-fallback\"><pre>LinearRegression()</pre><b>In a Jupyter environment, please rerun this cell to show the HTML representation or trust the notebook. <br />On GitHub, the HTML representation is unable to render, please try loading this page with nbviewer.org.</b></div><div class=\"sk-container\" hidden><div class=\"sk-item\"><div class=\"sk-estimator fitted sk-toggleable\"><input class=\"sk-toggleable__control sk-hidden--visually\" id=\"sk-estimator-id-7\" type=\"checkbox\" checked><label for=\"sk-estimator-id-7\" class=\"sk-toggleable__label fitted sk-toggleable__label-arrow\"><div><div>LinearRegression</div></div><div><a class=\"sk-estimator-doc-link fitted\" rel=\"noreferrer\" target=\"_blank\" href=\"https://scikit-learn.org/1.6/modules/generated/sklearn.linear_model.LinearRegression.html\">?<span>Documentation for LinearRegression</span></a><span class=\"sk-estimator-doc-link fitted\">i<span>Fitted</span></span></div></label><div class=\"sk-toggleable__content fitted\"><pre>LinearRegression()</pre></div> </div></div></div></div>"
      ],
      "text/plain": [
       "LinearRegression()"
      ]
     },
     "execution_count": 121,
     "metadata": {},
     "output_type": "execute_result"
    }
   ],
   "source": [
    "x_train , x_test , y_train , y_test = train_test_split(X , Y , random_state=42 , test_size=0.25)\n",
    "\n",
    "x_train_scaled = scaler.fit_transform(x_train)\n",
    "x_test_scaled = scaler.transform(x_test)\n",
    "model = LinearRegression()\n",
    "model.fit(x_train_scaled , y_train)"
   ]
  },
  {
   "cell_type": "code",
   "execution_count": 122,
   "id": "b4195d2f",
   "metadata": {},
   "outputs": [
    {
     "name": "stdout",
     "output_type": "stream",
     "text": [
      "R² score: 0.6902\n",
      "Mean Squared Error: 0.3846\n"
     ]
    }
   ],
   "source": [
    "\n",
    "y_pred = model.predict(x_test_scaled)\n",
    "r2 = r2_score(y_test, y_pred)\n",
    "mse = mean_squared_error(y_test, y_pred)\n",
    "\n",
    "print(f\"R² score: {r2:.4f}\")\n",
    "print(f\"Mean Squared Error: {mse:.4f}\")\n"
   ]
  }
 ],
 "metadata": {
  "kernelspec": {
   "display_name": "Python 3",
   "language": "python",
   "name": "python3"
  },
  "language_info": {
   "codemirror_mode": {
    "name": "ipython",
    "version": 3
   },
   "file_extension": ".py",
   "mimetype": "text/x-python",
   "name": "python",
   "nbconvert_exporter": "python",
   "pygments_lexer": "ipython3",
   "version": "3.13.1"
  }
 },
 "nbformat": 4,
 "nbformat_minor": 5
}
